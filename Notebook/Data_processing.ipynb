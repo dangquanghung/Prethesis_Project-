{
 "cells": [
  {
   "cell_type": "markdown",
   "metadata": {},
   "source": [
    "<h1> ARIMA and FILL MISSING VALUE BY INTERPOLATION FUNCTION\n"
   ]
  },
  {
   "cell_type": "markdown",
   "metadata": {},
   "source": [
    "[Source](https://towardsdatascience.com/machine-learning-part-19-time-series-and-autoregressive-integrated-moving-average-model-arima-c1005347b0d7)"
   ]
  },
  {
   "cell_type": "code",
   "execution_count": 56,
   "metadata": {},
   "outputs": [],
   "source": [
    "import pandas as pd\n",
    "import matplotlib.pyplot as plt\n"
   ]
  },
  {
   "cell_type": "code",
   "execution_count": 57,
   "metadata": {},
   "outputs": [
    {
     "name": "stderr",
     "output_type": "stream",
     "text": [
      "C:\\Users\\User\\AppData\\Local\\Temp/ipykernel_21084/1865991293.py:3: FutureWarning: In a future version of pandas all arguments of DataFrame.drop except for the argument 'labels' will be keyword-only\n",
      "  data = data.drop([ 'latitude', 'longitude',\t'elevation', 'status'], 1)\n"
     ]
    },
    {
     "data": {
      "text/html": [
       "<div>\n",
       "<style scoped>\n",
       "    .dataframe tbody tr th:only-of-type {\n",
       "        vertical-align: middle;\n",
       "    }\n",
       "\n",
       "    .dataframe tbody tr th {\n",
       "        vertical-align: top;\n",
       "    }\n",
       "\n",
       "    .dataframe thead th {\n",
       "        text-align: right;\n",
       "    }\n",
       "</style>\n",
       "<table border=\"1\" class=\"dataframe\">\n",
       "  <thead>\n",
       "    <tr style=\"text-align: right;\">\n",
       "      <th></th>\n",
       "      <th>date</th>\n",
       "      <th>entry_id</th>\n",
       "      <th>LPG</th>\n",
       "      <th>CO</th>\n",
       "    </tr>\n",
       "  </thead>\n",
       "  <tbody>\n",
       "    <tr>\n",
       "      <th>0</th>\n",
       "      <td>2022-01-15T14:19:47</td>\n",
       "      <td>2</td>\n",
       "      <td>1.53733</td>\n",
       "      <td>3.91446</td>\n",
       "    </tr>\n",
       "    <tr>\n",
       "      <th>1</th>\n",
       "      <td>2022-01-15T14:20:48</td>\n",
       "      <td>3</td>\n",
       "      <td>0.11203</td>\n",
       "      <td>2.96776</td>\n",
       "    </tr>\n",
       "    <tr>\n",
       "      <th>2</th>\n",
       "      <td>2022-01-15T14:21:25</td>\n",
       "      <td>4</td>\n",
       "      <td>0.06507</td>\n",
       "      <td>2.81215</td>\n",
       "    </tr>\n",
       "    <tr>\n",
       "      <th>3</th>\n",
       "      <td>2022-01-15T14:21:56</td>\n",
       "      <td>5</td>\n",
       "      <td>0.04862</td>\n",
       "      <td>2.73300</td>\n",
       "    </tr>\n",
       "    <tr>\n",
       "      <th>4</th>\n",
       "      <td>2022-01-15T14:23:00</td>\n",
       "      <td>6</td>\n",
       "      <td>0.04180</td>\n",
       "      <td>2.65287</td>\n",
       "    </tr>\n",
       "    <tr>\n",
       "      <th>...</th>\n",
       "      <td>...</td>\n",
       "      <td>...</td>\n",
       "      <td>...</td>\n",
       "      <td>...</td>\n",
       "    </tr>\n",
       "    <tr>\n",
       "      <th>398</th>\n",
       "      <td>2022-01-15T17:52:46</td>\n",
       "      <td>400</td>\n",
       "      <td>0.01838</td>\n",
       "      <td>2.53068</td>\n",
       "    </tr>\n",
       "    <tr>\n",
       "      <th>399</th>\n",
       "      <td>2022-01-15T17:53:15</td>\n",
       "      <td>401</td>\n",
       "      <td>0.02381</td>\n",
       "      <td>2.53068</td>\n",
       "    </tr>\n",
       "    <tr>\n",
       "      <th>400</th>\n",
       "      <td>2022-01-15T17:53:45</td>\n",
       "      <td>402</td>\n",
       "      <td>0.01682</td>\n",
       "      <td>2.53068</td>\n",
       "    </tr>\n",
       "    <tr>\n",
       "      <th>401</th>\n",
       "      <td>2022-01-15T17:54:14</td>\n",
       "      <td>403</td>\n",
       "      <td>0.01682</td>\n",
       "      <td>2.53068</td>\n",
       "    </tr>\n",
       "    <tr>\n",
       "      <th>402</th>\n",
       "      <td>2022-01-15T17:54:43</td>\n",
       "      <td>404</td>\n",
       "      <td>0.02381</td>\n",
       "      <td>2.53068</td>\n",
       "    </tr>\n",
       "  </tbody>\n",
       "</table>\n",
       "<p>403 rows × 4 columns</p>\n",
       "</div>"
      ],
      "text/plain": [
       "                    date  entry_id      LPG       CO\n",
       "0    2022-01-15T14:19:47         2  1.53733  3.91446\n",
       "1    2022-01-15T14:20:48         3  0.11203  2.96776\n",
       "2    2022-01-15T14:21:25         4  0.06507  2.81215\n",
       "3    2022-01-15T14:21:56         5  0.04862  2.73300\n",
       "4    2022-01-15T14:23:00         6  0.04180  2.65287\n",
       "..                   ...       ...      ...      ...\n",
       "398  2022-01-15T17:52:46       400  0.01838  2.53068\n",
       "399  2022-01-15T17:53:15       401  0.02381  2.53068\n",
       "400  2022-01-15T17:53:45       402  0.01682  2.53068\n",
       "401  2022-01-15T17:54:14       403  0.01682  2.53068\n",
       "402  2022-01-15T17:54:43       404  0.02381  2.53068\n",
       "\n",
       "[403 rows x 4 columns]"
      ]
     },
     "execution_count": 57,
     "metadata": {},
     "output_type": "execute_result"
    }
   ],
   "source": [
    "data = pd.read_csv(\"D:/vs_code_workspace/PYTHON/IoTpreThesis/irrelevant/feeds.csv\")\n",
    "data = data.rename({'created_at': 'date', 'field1': 'LPG', 'field2':'CO'}, axis=1) \n",
    "data = data.drop([ 'latitude', 'longitude',\t'elevation', 'status'], 1)\n",
    "data['date'] = data['date'].str[:-6]\n",
    "data\n"
   ]
  },
  {
   "cell_type": "code",
   "execution_count": 58,
   "metadata": {},
   "outputs": [
    {
     "name": "stderr",
     "output_type": "stream",
     "text": [
      "C:\\Users\\User\\AppData\\Local\\Temp/ipykernel_21084/452808288.py:2: SettingWithCopyWarning: \n",
      "A value is trying to be set on a copy of a slice from a DataFrame\n",
      "\n",
      "See the caveats in the documentation: https://pandas.pydata.org/pandas-docs/stable/user_guide/indexing.html#returning-a-view-versus-a-copy\n",
      "  data['date'][i] = data['date'][i].replace(\"T\", \" \")\n"
     ]
    }
   ],
   "source": [
    "for i in range(len(data['date'])):\n",
    "  data['date'][i] = data['date'][i].replace(\"T\", \" \")"
   ]
  },
  {
   "cell_type": "code",
   "execution_count": 59,
   "metadata": {},
   "outputs": [],
   "source": [
    "from datetime import datetime, timedelta\n",
    "date_format_str = '%Y-%m-%d %H:%M:%S'"
   ]
  },
  {
   "cell_type": "code",
   "execution_count": 60,
   "metadata": {},
   "outputs": [],
   "source": [
    "length = len(data.date)-1"
   ]
  },
  {
   "cell_type": "code",
   "execution_count": 61,
   "metadata": {},
   "outputs": [],
   "source": [
    "for i in range(length):\n",
    "  start = datetime.strptime(data.date[i], date_format_str)\n",
    "  end =   datetime.strptime(data.date[i+1], date_format_str)\n",
    "  diff = end - start  \n",
    "  if (diff.total_seconds() > 60):\n",
    "\n",
    "    add = start + timedelta(seconds=10)\n",
    "    add = add.strftime(date_format_str)\n",
    "    line = pd.DataFrame({\"date\": add ,\"LPG\": float(\"NaN\"), \"CO\": float(\"NaN\"),}, index=[i+1])\n",
    "    data = pd.concat([data.iloc[:i+1], line, data.iloc[i+1:]]).reset_index(drop=True)\n",
    "    length += 1\n",
    "    continue\n",
    "    "
   ]
  },
  {
   "cell_type": "code",
   "execution_count": 62,
   "metadata": {},
   "outputs": [
    {
     "data": {
      "text/html": [
       "<div>\n",
       "<style scoped>\n",
       "    .dataframe tbody tr th:only-of-type {\n",
       "        vertical-align: middle;\n",
       "    }\n",
       "\n",
       "    .dataframe tbody tr th {\n",
       "        vertical-align: top;\n",
       "    }\n",
       "\n",
       "    .dataframe thead th {\n",
       "        text-align: right;\n",
       "    }\n",
       "</style>\n",
       "<table border=\"1\" class=\"dataframe\">\n",
       "  <thead>\n",
       "    <tr style=\"text-align: right;\">\n",
       "      <th></th>\n",
       "      <th>date</th>\n",
       "      <th>entry_id</th>\n",
       "      <th>LPG</th>\n",
       "      <th>CO</th>\n",
       "    </tr>\n",
       "  </thead>\n",
       "  <tbody>\n",
       "    <tr>\n",
       "      <th>2022-01-15 14:19:47</th>\n",
       "      <td>2022-01-15 14:19:47</td>\n",
       "      <td>2.0</td>\n",
       "      <td>1.53733</td>\n",
       "      <td>3.91446</td>\n",
       "    </tr>\n",
       "    <tr>\n",
       "      <th>2022-01-15 14:19:57</th>\n",
       "      <td>2022-01-15 14:19:57</td>\n",
       "      <td>NaN</td>\n",
       "      <td>NaN</td>\n",
       "      <td>NaN</td>\n",
       "    </tr>\n",
       "    <tr>\n",
       "      <th>2022-01-15 14:20:48</th>\n",
       "      <td>2022-01-15 14:20:48</td>\n",
       "      <td>3.0</td>\n",
       "      <td>0.11203</td>\n",
       "      <td>2.96776</td>\n",
       "    </tr>\n",
       "    <tr>\n",
       "      <th>2022-01-15 14:21:25</th>\n",
       "      <td>2022-01-15 14:21:25</td>\n",
       "      <td>4.0</td>\n",
       "      <td>0.06507</td>\n",
       "      <td>2.81215</td>\n",
       "    </tr>\n",
       "    <tr>\n",
       "      <th>2022-01-15 14:21:56</th>\n",
       "      <td>2022-01-15 14:21:56</td>\n",
       "      <td>5.0</td>\n",
       "      <td>0.04862</td>\n",
       "      <td>2.73300</td>\n",
       "    </tr>\n",
       "    <tr>\n",
       "      <th>...</th>\n",
       "      <td>...</td>\n",
       "      <td>...</td>\n",
       "      <td>...</td>\n",
       "      <td>...</td>\n",
       "    </tr>\n",
       "    <tr>\n",
       "      <th>2022-01-15 17:52:46</th>\n",
       "      <td>2022-01-15 17:52:46</td>\n",
       "      <td>400.0</td>\n",
       "      <td>0.01838</td>\n",
       "      <td>2.53068</td>\n",
       "    </tr>\n",
       "    <tr>\n",
       "      <th>2022-01-15 17:53:15</th>\n",
       "      <td>2022-01-15 17:53:15</td>\n",
       "      <td>401.0</td>\n",
       "      <td>0.02381</td>\n",
       "      <td>2.53068</td>\n",
       "    </tr>\n",
       "    <tr>\n",
       "      <th>2022-01-15 17:53:45</th>\n",
       "      <td>2022-01-15 17:53:45</td>\n",
       "      <td>402.0</td>\n",
       "      <td>0.01682</td>\n",
       "      <td>2.53068</td>\n",
       "    </tr>\n",
       "    <tr>\n",
       "      <th>2022-01-15 17:54:14</th>\n",
       "      <td>2022-01-15 17:54:14</td>\n",
       "      <td>403.0</td>\n",
       "      <td>0.01682</td>\n",
       "      <td>2.53068</td>\n",
       "    </tr>\n",
       "    <tr>\n",
       "      <th>2022-01-15 17:54:43</th>\n",
       "      <td>2022-01-15 17:54:43</td>\n",
       "      <td>404.0</td>\n",
       "      <td>0.02381</td>\n",
       "      <td>2.53068</td>\n",
       "    </tr>\n",
       "  </tbody>\n",
       "</table>\n",
       "<p>430 rows × 4 columns</p>\n",
       "</div>"
      ],
      "text/plain": [
       "                                    date  entry_id      LPG       CO\n",
       "2022-01-15 14:19:47  2022-01-15 14:19:47       2.0  1.53733  3.91446\n",
       "2022-01-15 14:19:57  2022-01-15 14:19:57       NaN      NaN      NaN\n",
       "2022-01-15 14:20:48  2022-01-15 14:20:48       3.0  0.11203  2.96776\n",
       "2022-01-15 14:21:25  2022-01-15 14:21:25       4.0  0.06507  2.81215\n",
       "2022-01-15 14:21:56  2022-01-15 14:21:56       5.0  0.04862  2.73300\n",
       "...                                  ...       ...      ...      ...\n",
       "2022-01-15 17:52:46  2022-01-15 17:52:46     400.0  0.01838  2.53068\n",
       "2022-01-15 17:53:15  2022-01-15 17:53:15     401.0  0.02381  2.53068\n",
       "2022-01-15 17:53:45  2022-01-15 17:53:45     402.0  0.01682  2.53068\n",
       "2022-01-15 17:54:14  2022-01-15 17:54:14     403.0  0.01682  2.53068\n",
       "2022-01-15 17:54:43  2022-01-15 17:54:43     404.0  0.02381  2.53068\n",
       "\n",
       "[430 rows x 4 columns]"
      ]
     },
     "execution_count": 62,
     "metadata": {},
     "output_type": "execute_result"
    }
   ],
   "source": [
    "data.index = data['date']\n",
    "data.index.name = None\n",
    "data"
   ]
  },
  {
   "cell_type": "code",
   "execution_count": 63,
   "metadata": {},
   "outputs": [
    {
     "data": {
      "text/plain": [
       "date         object\n",
       "entry_id    float64\n",
       "LPG         float64\n",
       "CO          float64\n",
       "dtype: object"
      ]
     },
     "execution_count": 63,
     "metadata": {},
     "output_type": "execute_result"
    }
   ],
   "source": [
    "data.dtypes"
   ]
  },
  {
   "cell_type": "code",
   "execution_count": 64,
   "metadata": {},
   "outputs": [
    {
     "data": {
      "text/plain": [
       "date         0\n",
       "entry_id    27\n",
       "LPG         27\n",
       "CO          27\n",
       "dtype: int64"
      ]
     },
     "execution_count": 64,
     "metadata": {},
     "output_type": "execute_result"
    }
   ],
   "source": [
    "data.isnull().sum()"
   ]
  },
  {
   "cell_type": "code",
   "execution_count": 65,
   "metadata": {},
   "outputs": [
    {
     "data": {
      "text/plain": [
       "date        0\n",
       "entry_id    0\n",
       "LPG         0\n",
       "CO          0\n",
       "dtype: int64"
      ]
     },
     "execution_count": 65,
     "metadata": {},
     "output_type": "execute_result"
    }
   ],
   "source": [
    "# fill na by Interpolation\n",
    "data = data.interpolate(method='linear', limit_direction='forward')\n",
    "data.isnull().sum()"
   ]
  },
  {
   "cell_type": "code",
   "execution_count": 66,
   "metadata": {},
   "outputs": [
    {
     "data": {
      "text/html": [
       "<div>\n",
       "<style scoped>\n",
       "    .dataframe tbody tr th:only-of-type {\n",
       "        vertical-align: middle;\n",
       "    }\n",
       "\n",
       "    .dataframe tbody tr th {\n",
       "        vertical-align: top;\n",
       "    }\n",
       "\n",
       "    .dataframe thead th {\n",
       "        text-align: right;\n",
       "    }\n",
       "</style>\n",
       "<table border=\"1\" class=\"dataframe\">\n",
       "  <thead>\n",
       "    <tr style=\"text-align: right;\">\n",
       "      <th></th>\n",
       "      <th>date</th>\n",
       "      <th>entry_id</th>\n",
       "      <th>LPG</th>\n",
       "      <th>CO</th>\n",
       "    </tr>\n",
       "  </thead>\n",
       "  <tbody>\n",
       "    <tr>\n",
       "      <th>2022-01-15 14:19:47</th>\n",
       "      <td>2022-01-15 14:19:47</td>\n",
       "      <td>2.0</td>\n",
       "      <td>1.53733</td>\n",
       "      <td>3.91446</td>\n",
       "    </tr>\n",
       "    <tr>\n",
       "      <th>2022-01-15 14:19:57</th>\n",
       "      <td>2022-01-15 14:19:57</td>\n",
       "      <td>2.5</td>\n",
       "      <td>0.82468</td>\n",
       "      <td>3.44111</td>\n",
       "    </tr>\n",
       "    <tr>\n",
       "      <th>2022-01-15 14:20:48</th>\n",
       "      <td>2022-01-15 14:20:48</td>\n",
       "      <td>3.0</td>\n",
       "      <td>0.11203</td>\n",
       "      <td>2.96776</td>\n",
       "    </tr>\n",
       "    <tr>\n",
       "      <th>2022-01-15 14:21:25</th>\n",
       "      <td>2022-01-15 14:21:25</td>\n",
       "      <td>4.0</td>\n",
       "      <td>0.06507</td>\n",
       "      <td>2.81215</td>\n",
       "    </tr>\n",
       "    <tr>\n",
       "      <th>2022-01-15 14:21:56</th>\n",
       "      <td>2022-01-15 14:21:56</td>\n",
       "      <td>5.0</td>\n",
       "      <td>0.04862</td>\n",
       "      <td>2.73300</td>\n",
       "    </tr>\n",
       "    <tr>\n",
       "      <th>...</th>\n",
       "      <td>...</td>\n",
       "      <td>...</td>\n",
       "      <td>...</td>\n",
       "      <td>...</td>\n",
       "    </tr>\n",
       "    <tr>\n",
       "      <th>2022-01-15 17:52:46</th>\n",
       "      <td>2022-01-15 17:52:46</td>\n",
       "      <td>400.0</td>\n",
       "      <td>0.01838</td>\n",
       "      <td>2.53068</td>\n",
       "    </tr>\n",
       "    <tr>\n",
       "      <th>2022-01-15 17:53:15</th>\n",
       "      <td>2022-01-15 17:53:15</td>\n",
       "      <td>401.0</td>\n",
       "      <td>0.02381</td>\n",
       "      <td>2.53068</td>\n",
       "    </tr>\n",
       "    <tr>\n",
       "      <th>2022-01-15 17:53:45</th>\n",
       "      <td>2022-01-15 17:53:45</td>\n",
       "      <td>402.0</td>\n",
       "      <td>0.01682</td>\n",
       "      <td>2.53068</td>\n",
       "    </tr>\n",
       "    <tr>\n",
       "      <th>2022-01-15 17:54:14</th>\n",
       "      <td>2022-01-15 17:54:14</td>\n",
       "      <td>403.0</td>\n",
       "      <td>0.01682</td>\n",
       "      <td>2.53068</td>\n",
       "    </tr>\n",
       "    <tr>\n",
       "      <th>2022-01-15 17:54:43</th>\n",
       "      <td>2022-01-15 17:54:43</td>\n",
       "      <td>404.0</td>\n",
       "      <td>0.02381</td>\n",
       "      <td>2.53068</td>\n",
       "    </tr>\n",
       "  </tbody>\n",
       "</table>\n",
       "<p>430 rows × 4 columns</p>\n",
       "</div>"
      ],
      "text/plain": [
       "                                   date  entry_id      LPG       CO\n",
       "2022-01-15 14:19:47 2022-01-15 14:19:47       2.0  1.53733  3.91446\n",
       "2022-01-15 14:19:57 2022-01-15 14:19:57       2.5  0.82468  3.44111\n",
       "2022-01-15 14:20:48 2022-01-15 14:20:48       3.0  0.11203  2.96776\n",
       "2022-01-15 14:21:25 2022-01-15 14:21:25       4.0  0.06507  2.81215\n",
       "2022-01-15 14:21:56 2022-01-15 14:21:56       5.0  0.04862  2.73300\n",
       "...                                 ...       ...      ...      ...\n",
       "2022-01-15 17:52:46 2022-01-15 17:52:46     400.0  0.01838  2.53068\n",
       "2022-01-15 17:53:15 2022-01-15 17:53:15     401.0  0.02381  2.53068\n",
       "2022-01-15 17:53:45 2022-01-15 17:53:45     402.0  0.01682  2.53068\n",
       "2022-01-15 17:54:14 2022-01-15 17:54:14     403.0  0.01682  2.53068\n",
       "2022-01-15 17:54:43 2022-01-15 17:54:43     404.0  0.02381  2.53068\n",
       "\n",
       "[430 rows x 4 columns]"
      ]
     },
     "execution_count": 66,
     "metadata": {},
     "output_type": "execute_result"
    }
   ],
   "source": [
    "data['date'] = pd.to_datetime(data['date'], errors='coerce')\n",
    "data"
   ]
  },
  {
   "cell_type": "code",
   "execution_count": 67,
   "metadata": {},
   "outputs": [
    {
     "data": {
      "text/html": [
       "<div>\n",
       "<style scoped>\n",
       "    .dataframe tbody tr th:only-of-type {\n",
       "        vertical-align: middle;\n",
       "    }\n",
       "\n",
       "    .dataframe tbody tr th {\n",
       "        vertical-align: top;\n",
       "    }\n",
       "\n",
       "    .dataframe thead th {\n",
       "        text-align: right;\n",
       "    }\n",
       "</style>\n",
       "<table border=\"1\" class=\"dataframe\">\n",
       "  <thead>\n",
       "    <tr style=\"text-align: right;\">\n",
       "      <th></th>\n",
       "      <th>entry_id</th>\n",
       "      <th>LPG</th>\n",
       "      <th>CO</th>\n",
       "    </tr>\n",
       "    <tr>\n",
       "      <th>date</th>\n",
       "      <th></th>\n",
       "      <th></th>\n",
       "      <th></th>\n",
       "    </tr>\n",
       "  </thead>\n",
       "  <tbody>\n",
       "    <tr>\n",
       "      <th>2022-01-15 14:19:00</th>\n",
       "      <td>2.25</td>\n",
       "      <td>1.181005</td>\n",
       "      <td>3.677785</td>\n",
       "    </tr>\n",
       "    <tr>\n",
       "      <th>2022-01-15 14:20:00</th>\n",
       "      <td>3.00</td>\n",
       "      <td>0.112030</td>\n",
       "      <td>2.967760</td>\n",
       "    </tr>\n",
       "    <tr>\n",
       "      <th>2022-01-15 14:21:00</th>\n",
       "      <td>4.50</td>\n",
       "      <td>0.056845</td>\n",
       "      <td>2.772575</td>\n",
       "    </tr>\n",
       "    <tr>\n",
       "      <th>2022-01-15 14:22:00</th>\n",
       "      <td>5.50</td>\n",
       "      <td>0.045210</td>\n",
       "      <td>2.692935</td>\n",
       "    </tr>\n",
       "    <tr>\n",
       "      <th>2022-01-15 14:23:00</th>\n",
       "      <td>6.50</td>\n",
       "      <td>0.036155</td>\n",
       "      <td>2.632645</td>\n",
       "    </tr>\n",
       "    <tr>\n",
       "      <th>...</th>\n",
       "      <td>...</td>\n",
       "      <td>...</td>\n",
       "      <td>...</td>\n",
       "    </tr>\n",
       "    <tr>\n",
       "      <th>2022-01-15 17:50:00</th>\n",
       "      <td>395.50</td>\n",
       "      <td>0.020315</td>\n",
       "      <td>2.530680</td>\n",
       "    </tr>\n",
       "    <tr>\n",
       "      <th>2022-01-15 17:51:00</th>\n",
       "      <td>397.50</td>\n",
       "      <td>0.016820</td>\n",
       "      <td>2.591775</td>\n",
       "    </tr>\n",
       "    <tr>\n",
       "      <th>2022-01-15 17:52:00</th>\n",
       "      <td>399.50</td>\n",
       "      <td>0.021095</td>\n",
       "      <td>2.530680</td>\n",
       "    </tr>\n",
       "    <tr>\n",
       "      <th>2022-01-15 17:53:00</th>\n",
       "      <td>401.50</td>\n",
       "      <td>0.020315</td>\n",
       "      <td>2.530680</td>\n",
       "    </tr>\n",
       "    <tr>\n",
       "      <th>2022-01-15 17:54:00</th>\n",
       "      <td>403.50</td>\n",
       "      <td>0.020315</td>\n",
       "      <td>2.530680</td>\n",
       "    </tr>\n",
       "  </tbody>\n",
       "</table>\n",
       "<p>216 rows × 3 columns</p>\n",
       "</div>"
      ],
      "text/plain": [
       "                     entry_id       LPG        CO\n",
       "date                                             \n",
       "2022-01-15 14:19:00      2.25  1.181005  3.677785\n",
       "2022-01-15 14:20:00      3.00  0.112030  2.967760\n",
       "2022-01-15 14:21:00      4.50  0.056845  2.772575\n",
       "2022-01-15 14:22:00      5.50  0.045210  2.692935\n",
       "2022-01-15 14:23:00      6.50  0.036155  2.632645\n",
       "...                       ...       ...       ...\n",
       "2022-01-15 17:50:00    395.50  0.020315  2.530680\n",
       "2022-01-15 17:51:00    397.50  0.016820  2.591775\n",
       "2022-01-15 17:52:00    399.50  0.021095  2.530680\n",
       "2022-01-15 17:53:00    401.50  0.020315  2.530680\n",
       "2022-01-15 17:54:00    403.50  0.020315  2.530680\n",
       "\n",
       "[216 rows x 3 columns]"
      ]
     },
     "execution_count": 67,
     "metadata": {},
     "output_type": "execute_result"
    }
   ],
   "source": [
    "minutes=data.resample('1Min',on='date').mean().dropna()\n",
    "minutes"
   ]
  },
  {
   "cell_type": "code",
   "execution_count": 68,
   "metadata": {},
   "outputs": [],
   "source": [
    "from datetime import datetime, date\n",
    "\n",
    "def justOneMinute(data, num_prediction ):\n",
    "    li=[]\n",
    "    for i in range(len(data)):\n",
    "        d = date(year=data.date.dt.year[i], month=data.date.dt.month[i], day=data.date.dt.day[i])\n",
    "        dt = datetime.combine(d, data['date'].dt.time[i])\n",
    "        li.append(dt + timedelta(minutes=num_prediction))\n",
    "    return li\n",
    "        \n",
    "    \n"
   ]
  },
  {
   "cell_type": "code",
   "execution_count": 69,
   "metadata": {},
   "outputs": [
    {
     "data": {
      "text/plain": [
       "datetime.datetime(2022, 1, 15, 17, 55, 43)"
      ]
     },
     "execution_count": 69,
     "metadata": {},
     "output_type": "execute_result"
    }
   ],
   "source": [
    "justOneMinute(data, 1)[-1]"
   ]
  },
  {
   "cell_type": "code",
   "execution_count": 70,
   "metadata": {},
   "outputs": [],
   "source": [
    "# data = data.groupby([data.date.dt.time]).agg(\n",
    "#     {\n",
    "#          'LPG': 'mean',  \n",
    "#          'CO':'mean'\n",
    "#     }\n",
    "# )\n",
    "# # data['date'] = pd.to_datetime(data['date'], errors='coerce')\n",
    "# data"
   ]
  },
  {
   "cell_type": "code",
   "execution_count": 71,
   "metadata": {},
   "outputs": [
    {
     "data": {
      "text/plain": [
       "<AxesSubplot:xlabel='y(t)', ylabel='y(t + 1)'>"
      ]
     },
     "execution_count": 71,
     "metadata": {},
     "output_type": "execute_result"
    },
    {
     "data": {
      "image/png": "[encoded data removed]",
      "text/plain": [
       "<Figure size 432x288 with 1 Axes>"
      ]
     },
     "metadata": {
      "needs_background": "light"
     },
     "output_type": "display_data"
    }
   ],
   "source": [
    "from pandas.plotting import lag_plot\n",
    "lag_plot(data.LPG)"
   ]
  },
  {
   "cell_type": "code",
   "execution_count": 72,
   "metadata": {},
   "outputs": [
    {
     "data": {
      "text/plain": [
       "<AxesSubplot:xlabel='y(t)', ylabel='y(t + 1)'>"
      ]
     },
     "execution_count": 72,
     "metadata": {},
     "output_type": "execute_result"
    },
    {
     "data": {
      "image/png": "[encoded data removed]",
      "text/plain": [
       "<Figure size 432x288 with 1 Axes>"
      ]
     },
     "metadata": {
      "needs_background": "light"
     },
     "output_type": "display_data"
    }
   ],
   "source": [
    "\n",
    "lag_plot(data.CO)"
   ]
  },
  {
   "cell_type": "code",
   "execution_count": 73,
   "metadata": {},
   "outputs": [
    {
     "data": {
      "text/plain": [
       "<AxesSubplot:>"
      ]
     },
     "execution_count": 73,
     "metadata": {},
     "output_type": "execute_result"
    },
    {
     "data": {
      "image/png": "[encoded data removed]",
      "text/plain": [
       "<Figure size 432x288 with 1 Axes>"
      ]
     },
     "metadata": {
      "needs_background": "light"
     },
     "output_type": "display_data"
    }
   ],
   "source": [
    "\n",
    "dataD = data.reindex(['LPG', 'CO'], axis=1)\n",
    "dataD.plot()\n"
   ]
  },
  {
   "cell_type": "code",
   "execution_count": 74,
   "metadata": {},
   "outputs": [
    {
     "name": "stderr",
     "output_type": "stream",
     "text": [
      "C:\\Users\\User\\AppData\\Local\\Programs\\Python\\Python39\\lib\\site-packages\\statsmodels\\tsa\\base\\tsa_model.py:593: ValueWarning: A date index has been provided, but it has no associated frequency information and so will be ignored when e.g. forecasting.\n",
      "  warnings.warn('A date index has been provided, but it has no'\n",
      "C:\\Users\\User\\AppData\\Local\\Programs\\Python\\Python39\\lib\\site-packages\\statsmodels\\tsa\\base\\tsa_model.py:593: ValueWarning: A date index has been provided, but it has no associated frequency information and so will be ignored when e.g. forecasting.\n",
      "  warnings.warn('A date index has been provided, but it has no'\n",
      "C:\\Users\\User\\AppData\\Local\\Programs\\Python\\Python39\\lib\\site-packages\\statsmodels\\tsa\\base\\tsa_model.py:593: ValueWarning: A date index has been provided, but it has no associated frequency information and so will be ignored when e.g. forecasting.\n",
      "  warnings.warn('A date index has been provided, but it has no'\n"
     ]
    },
    {
     "data": {
      "text/html": [
       "<table class=\"simpletable\">\n",
       "<caption>SARIMAX Results</caption>\n",
       "<tr>\n",
       "  <th>Dep. Variable:</th>          <td>LPG</td>       <th>  No. Observations:  </th>    <td>430</td>  \n",
       "</tr>\n",
       "<tr>\n",
       "  <th>Model:</th>            <td>ARIMA(1, 1, 1)</td>  <th>  Log Likelihood     </th>  <td>407.294</td>\n",
       "</tr>\n",
       "<tr>\n",
       "  <th>Date:</th>            <td>Sat, 22 Jan 2022</td> <th>  AIC                </th> <td>-808.589</td>\n",
       "</tr>\n",
       "<tr>\n",
       "  <th>Time:</th>                <td>02:29:46</td>     <th>  BIC                </th> <td>-796.404</td>\n",
       "</tr>\n",
       "<tr>\n",
       "  <th>Sample:</th>                  <td>0</td>        <th>  HQIC               </th> <td>-803.777</td>\n",
       "</tr>\n",
       "<tr>\n",
       "  <th></th>                      <td> - 430</td>      <th>                     </th>     <td> </td>   \n",
       "</tr>\n",
       "<tr>\n",
       "  <th>Covariance Type:</th>        <td>opg</td>       <th>                     </th>     <td> </td>   \n",
       "</tr>\n",
       "</table>\n",
       "<table class=\"simpletable\">\n",
       "<tr>\n",
       "     <td></td>       <th>coef</th>     <th>std err</th>      <th>z</th>      <th>P>|z|</th>  <th>[0.025</th>    <th>0.975]</th>  \n",
       "</tr>\n",
       "<tr>\n",
       "  <th>ar.L1</th>  <td>    0.5915</td> <td>    0.011</td> <td>   53.024</td> <td> 0.000</td> <td>    0.570</td> <td>    0.613</td>\n",
       "</tr>\n",
       "<tr>\n",
       "  <th>ma.L1</th>  <td>   -0.9671</td> <td>    0.038</td> <td>  -25.719</td> <td> 0.000</td> <td>   -1.041</td> <td>   -0.893</td>\n",
       "</tr>\n",
       "<tr>\n",
       "  <th>sigma2</th> <td>    0.0087</td> <td>    0.000</td> <td>   24.309</td> <td> 0.000</td> <td>    0.008</td> <td>    0.009</td>\n",
       "</tr>\n",
       "</table>\n",
       "<table class=\"simpletable\">\n",
       "<tr>\n",
       "  <th>Ljung-Box (L1) (Q):</th>     <td>4.75</td> <th>  Jarque-Bera (JB):  </th> <td>219195.42</td>\n",
       "</tr>\n",
       "<tr>\n",
       "  <th>Prob(Q):</th>                <td>0.03</td> <th>  Prob(JB):          </th>   <td>0.00</td>   \n",
       "</tr>\n",
       "<tr>\n",
       "  <th>Heteroskedasticity (H):</th> <td>0.00</td> <th>  Skew:              </th>   <td>3.16</td>   \n",
       "</tr>\n",
       "<tr>\n",
       "  <th>Prob(H) (two-sided):</th>    <td>0.00</td> <th>  Kurtosis:          </th>  <td>113.56</td>  \n",
       "</tr>\n",
       "</table><br/><br/>Warnings:<br/>[1] Covariance matrix calculated using the outer product of gradients (complex-step)."
      ],
      "text/plain": [
       "<class 'statsmodels.iolib.summary.Summary'>\n",
       "\"\"\"\n",
       "                               SARIMAX Results                                \n",
       "==============================================================================\n",
       "Dep. Variable:                    LPG   No. Observations:                  430\n",
       "Model:                 ARIMA(1, 1, 1)   Log Likelihood                 407.294\n",
       "Date:                Sat, 22 Jan 2022   AIC                           -808.589\n",
       "Time:                        02:29:46   BIC                           -796.404\n",
       "Sample:                             0   HQIC                          -803.777\n",
       "                                - 430                                         \n",
       "Covariance Type:                  opg                                         \n",
       "==============================================================================\n",
       "                 coef    std err          z      P>|z|      [0.025      0.975]\n",
       "------------------------------------------------------------------------------\n",
       "ar.L1          0.5915      0.011     53.024      0.000       0.570       0.613\n",
       "ma.L1         -0.9671      0.038    -25.719      0.000      -1.041      -0.893\n",
       "sigma2         0.0087      0.000     24.309      0.000       0.008       0.009\n",
       "===================================================================================\n",
       "Ljung-Box (L1) (Q):                   4.75   Jarque-Bera (JB):            219195.42\n",
       "Prob(Q):                              0.03   Prob(JB):                         0.00\n",
       "Heteroskedasticity (H):               0.00   Skew:                             3.16\n",
       "Prob(H) (two-sided):                  0.00   Kurtosis:                       113.56\n",
       "===================================================================================\n",
       "\n",
       "Warnings:\n",
       "[1] Covariance matrix calculated using the outer product of gradients (complex-step).\n",
       "\"\"\""
      ]
     },
     "execution_count": 74,
     "metadata": {},
     "output_type": "execute_result"
    }
   ],
   "source": [
    "from statsmodels.tsa.arima.model import ARIMA\n",
    "model=ARIMA(data['LPG'],order=(1,1,1))\n",
    "model_fit=model.fit()\n",
    "model_fit.summary()"
   ]
  },
  {
   "cell_type": "code",
   "execution_count": 75,
   "metadata": {},
   "outputs": [
    {
     "name": "stderr",
     "output_type": "stream",
     "text": [
      "C:\\Users\\User\\AppData\\Local\\Programs\\Python\\Python39\\lib\\site-packages\\statsmodels\\tsa\\base\\tsa_model.py:390: ValueWarning: No supported index is available. Prediction results will be given with an integer index beginning at `start`.\n",
      "  warnings.warn('No supported index is available.'\n"
     ]
    },
    {
     "data": {
      "text/plain": [
       "<AxesSubplot:>"
      ]
     },
     "execution_count": 75,
     "metadata": {},
     "output_type": "execute_result"
    },
    {
     "data": {
      "image/png": "[encoded data removed]",
      "text/plain": [
       "<Figure size 864x576 with 1 Axes>"
      ]
     },
     "metadata": {
      "needs_background": "light"
     },
     "output_type": "display_data"
    }
   ],
   "source": [
    "data['forecast']=model_fit.predict(start=400,end=437,dynamic=True)\n",
    "data[['LPG','forecast']].plot(figsize=(12,8))"
   ]
  },
  {
   "cell_type": "code",
   "execution_count": 76,
   "metadata": {},
   "outputs": [
    {
     "name": "stderr",
     "output_type": "stream",
     "text": [
      "C:\\Users\\User\\AppData\\Local\\Programs\\Python\\Python39\\lib\\site-packages\\statsmodels\\tsa\\base\\tsa_model.py:593: ValueWarning: A date index has been provided, but it has no associated frequency information and so will be ignored when e.g. forecasting.\n",
      "  warnings.warn('A date index has been provided, but it has no'\n",
      "C:\\Users\\User\\AppData\\Local\\Programs\\Python\\Python39\\lib\\site-packages\\statsmodels\\tsa\\base\\tsa_model.py:593: ValueWarning: A date index has been provided, but it has no associated frequency information and so will be ignored when e.g. forecasting.\n",
      "  warnings.warn('A date index has been provided, but it has no'\n",
      "C:\\Users\\User\\AppData\\Local\\Programs\\Python\\Python39\\lib\\site-packages\\statsmodels\\base\\model.py:604: ConvergenceWarning: Maximum Likelihood optimization failed to converge. Check mle_retvals\n",
      "  warnings.warn(\"Maximum Likelihood optimization failed to \"\n",
      "C:\\Users\\User\\AppData\\Local\\Programs\\Python\\Python39\\lib\\site-packages\\statsmodels\\tsa\\base\\tsa_model.py:390: ValueWarning: No supported index is available. Prediction results will be given with an integer index beginning at `start`.\n",
      "  warnings.warn('No supported index is available.'\n"
     ]
    },
    {
     "data": {
      "text/plain": [
       "<AxesSubplot:>"
      ]
     },
     "execution_count": 76,
     "metadata": {},
     "output_type": "execute_result"
    },
    {
     "data": {
      "image/png": "[encoded data removed]",
      "text/plain": [
       "<Figure size 864x576 with 1 Axes>"
      ]
     },
     "metadata": {
      "needs_background": "light"
     },
     "output_type": "display_data"
    }
   ],
   "source": [
    "import statsmodels.api as sm\n",
    "model=sm.tsa.statespace.SARIMAX(data['LPG'],order=(1, 1, 1),seasonal_order=(1,1,1,12))\n",
    "results=model.fit()\n",
    "data['forecast']=results.predict(start=400,end=437,dynamic=True)\n",
    "data[['LPG','forecast']].plot(figsize=(12,8))"
   ]
  },
  {
   "cell_type": "code",
   "execution_count": 77,
   "metadata": {},
   "outputs": [
    {
     "name": "stdout",
     "output_type": "stream",
     "text": [
      "Performing stepwise search to minimize aic\n",
      " ARIMA(2,1,2)(0,0,0)[0] intercept   : AIC=-801.925, Time=0.53 sec\n",
      " ARIMA(0,1,0)(0,0,0)[0] intercept   : AIC=-774.138, Time=0.03 sec\n",
      " ARIMA(1,1,0)(0,0,0)[0] intercept   : AIC=-789.700, Time=0.15 sec\n",
      " ARIMA(0,1,1)(0,0,0)[0] intercept   : AIC=-796.727, Time=0.15 sec\n",
      " ARIMA(0,1,0)(0,0,0)[0]             : AIC=-775.579, Time=0.02 sec\n",
      " ARIMA(1,1,2)(0,0,0)[0] intercept   : AIC=-806.122, Time=0.62 sec\n",
      " ARIMA(0,1,2)(0,0,0)[0] intercept   : AIC=-803.807, Time=0.43 sec\n",
      " ARIMA(1,1,1)(0,0,0)[0] intercept   : AIC=-807.990, Time=0.47 sec\n",
      " ARIMA(2,1,1)(0,0,0)[0] intercept   : AIC=-804.536, Time=0.64 sec\n",
      " ARIMA(2,1,0)(0,0,0)[0] intercept   : AIC=-796.662, Time=0.38 sec\n",
      " ARIMA(1,1,1)(0,0,0)[0]             : AIC=-808.589, Time=0.20 sec\n",
      " ARIMA(0,1,1)(0,0,0)[0]             : AIC=-797.898, Time=0.07 sec\n",
      " ARIMA(1,1,0)(0,0,0)[0]             : AIC=-790.977, Time=0.07 sec\n",
      " ARIMA(2,1,1)(0,0,0)[0]             : AIC=-806.710, Time=0.39 sec\n",
      " ARIMA(1,1,2)(0,0,0)[0]             : AIC=-806.721, Time=0.34 sec\n",
      " ARIMA(0,1,2)(0,0,0)[0]             : AIC=-804.896, Time=0.23 sec\n",
      " ARIMA(2,1,0)(0,0,0)[0]             : AIC=-797.863, Time=0.14 sec\n",
      " ARIMA(2,1,2)(0,0,0)[0]             : AIC=-804.649, Time=0.50 sec\n",
      "\n",
      "Best model:  ARIMA(1,1,1)(0,0,0)[0]          \n",
      "Total fit time: 5.371 seconds\n"
     ]
    },
    {
     "data": {
      "text/plain": [
       "ARIMA(order=(1, 1, 1), scoring_args={}, suppress_warnings=True,\n",
       "      with_intercept=False)"
      ]
     },
     "execution_count": 77,
     "metadata": {},
     "output_type": "execute_result"
    }
   ],
   "source": [
    "from pmdarima import auto_arima\n",
    "stepwise_fit = auto_arima(data['LPG'], trace=True,\n",
    "suppress_warnings=True)\n",
    "stepwise_fit"
   ]
  },
  {
   "cell_type": "code",
   "execution_count": 78,
   "metadata": {},
   "outputs": [
    {
     "name": "stdout",
     "output_type": "stream",
     "text": [
      "predicted=0.022139, expected=0.018380\n",
      "predicted=0.018795, expected=0.018380\n",
      "predicted=0.018778, expected=0.023810\n",
      "predicted=0.022176, expected=0.016820\n",
      "predicted=0.017847, expected=0.016820\n",
      "predicted=0.017812, expected=0.023810\n",
      "predicted=0.022156, expected=0.023810\n",
      "predicted=0.022213, expected=0.023810\n",
      "predicted=0.022267, expected=0.023810\n",
      "predicted=0.022323, expected=0.018380\n",
      "predicted=0.018972, expected=0.016820\n",
      "predicted=0.017972, expected=0.016820\n",
      "predicted=0.017947, expected=0.023810\n",
      "predicted=0.022278, expected=0.023810\n",
      "predicted=0.022327, expected=0.016820\n",
      "predicted=0.017973, expected=0.016820\n",
      "predicted=0.017962, expected=0.016820\n",
      "predicted=0.017918, expected=0.016820\n",
      "predicted=0.017881, expected=0.016820\n",
      "predicted=0.017844, expected=0.016820\n",
      "predicted=0.017808, expected=0.016820\n",
      "predicted=0.017775, expected=0.016820\n",
      "predicted=0.017744, expected=0.023810\n",
      "predicted=0.022086, expected=0.016820\n",
      "predicted=0.017769, expected=0.016820\n",
      "predicted=0.017736, expected=0.016820\n",
      "predicted=0.017709, expected=0.016820\n",
      "predicted=0.017676, expected=0.023810\n",
      "predicted=0.022020, expected=0.021870\n",
      "predicted=0.020867, expected=0.016820\n",
      "predicted=0.017742, expected=0.016820\n",
      "predicted=0.017712, expected=0.023810\n",
      "predicted=0.022054, expected=0.016820\n",
      "predicted=0.017740, expected=0.016820\n",
      "predicted=0.017707, expected=0.016820\n",
      "predicted=0.017671, expected=0.023810\n",
      "predicted=0.022023, expected=0.023810\n",
      "predicted=0.022068, expected=0.016820\n",
      "predicted=0.017778, expected=0.016820\n",
      "predicted=0.017737, expected=0.016820\n",
      "predicted=0.017706, expected=0.016820\n",
      "predicted=0.017677, expected=0.016820\n"
     ]
    },
    {
     "name": "stderr",
     "output_type": "stream",
     "text": [
      "C:\\Users\\User\\AppData\\Local\\Programs\\Python\\Python39\\lib\\site-packages\\statsmodels\\base\\model.py:604: ConvergenceWarning: Maximum Likelihood optimization failed to converge. Check mle_retvals\n",
      "  warnings.warn(\"Maximum Likelihood optimization failed to \"\n"
     ]
    },
    {
     "name": "stdout",
     "output_type": "stream",
     "text": [
      "predicted=0.017647, expected=0.016820\n",
      "predicted=0.017615, expected=0.016820\n",
      "predicted=0.017591, expected=0.016820\n",
      "predicted=0.017563, expected=0.023810\n",
      "predicted=0.021915, expected=0.023810\n",
      "predicted=0.021975, expected=0.016820\n",
      "predicted=0.017669, expected=0.016820\n",
      "predicted=0.017638, expected=0.021870\n",
      "predicted=0.020769, expected=0.023810\n",
      "predicted=0.022020, expected=0.016820\n",
      "predicted=0.017708, expected=0.016820\n",
      "predicted=0.017680, expected=0.016820\n",
      "predicted=0.017657, expected=0.023810\n",
      "predicted=0.021999, expected=0.016820\n",
      "predicted=0.017685, expected=0.016820\n",
      "predicted=0.017652, expected=0.018380\n",
      "predicted=0.018602, expected=0.023810\n",
      "predicted=0.021989, expected=0.016820\n",
      "predicted=0.017678, expected=0.016820\n",
      "predicted=0.017651, expected=0.016820\n",
      "predicted=0.017623, expected=0.016820\n",
      "predicted=0.017595, expected=0.023810\n",
      "predicted=0.021948, expected=0.016820\n",
      "predicted=0.017633, expected=0.016820\n",
      "predicted=0.017606, expected=0.016820\n",
      "predicted=0.017580, expected=0.016820\n",
      "predicted=0.017553, expected=0.016820\n",
      "predicted=0.017533, expected=0.016820\n",
      "predicted=0.017510, expected=0.023810\n",
      "predicted=0.021853, expected=0.023810\n"
     ]
    },
    {
     "name": "stderr",
     "output_type": "stream",
     "text": [
      "C:\\Users\\User\\AppData\\Local\\Programs\\Python\\Python39\\lib\\site-packages\\statsmodels\\base\\model.py:604: ConvergenceWarning: Maximum Likelihood optimization failed to converge. Check mle_retvals\n",
      "  warnings.warn(\"Maximum Likelihood optimization failed to \"\n"
     ]
    },
    {
     "name": "stdout",
     "output_type": "stream",
     "text": [
      "predicted=0.021921, expected=0.016820\n",
      "predicted=0.017611, expected=0.016820\n",
      "predicted=0.017587, expected=0.016820\n",
      "predicted=0.017559, expected=0.016820\n",
      "predicted=0.017536, expected=0.016820\n",
      "predicted=0.017508, expected=0.023810\n",
      "predicted=0.021855, expected=0.016820\n",
      "predicted=0.017551, expected=0.016820\n",
      "predicted=0.017535, expected=0.023810\n",
      "predicted=0.021874, expected=0.018380\n",
      "predicted=0.018543, expected=0.023810\n",
      "predicted=0.021930, expected=0.016820\n",
      "predicted=0.017628, expected=0.016820\n",
      "predicted=0.017600, expected=0.023810\n",
      "Test MAE: 0.00275\n",
      "Test MSE: 0.00001\n",
      "Test RMSE: 0.00353\n"
     ]
    },
    {
     "data": {
      "image/png": "[encoded data removed]",
      "text/plain": [
       "<Figure size 432x288 with 1 Axes>"
      ]
     },
     "metadata": {
      "needs_background": "light"
     },
     "output_type": "display_data"
    }
   ],
   "source": [
    "# evaluate an ARIMA model using a walk-forward validation\n",
    "\n",
    "from matplotlib import pyplot\n",
    "from statsmodels.tsa.arima.model import ARIMA\n",
    "from sklearn.metrics import *\n",
    "from math import sqrt\n",
    "\n",
    "\n",
    "# print(data)\n",
    "# data.index = data.index.to_period('T')\n",
    "# split into train and test sets\n",
    "X = data['LPG'].values\n",
    "size = int(len(X) * 0.8)\n",
    "train, test = X[0:size], X[size:len(X)]\n",
    "history = [x for x in train]\n",
    "predictions = list()\n",
    "# walk-forward validation\n",
    "OBS = []\n",
    "YHAT = []\n",
    "for t in range(len(test)):\n",
    "\tmodel = ARIMA(history, order=(1,1,1))\n",
    "\tmodel_fit = model.fit()\n",
    "\toutput = model_fit.forecast()\n",
    "\tyhat = output[0]\n",
    "\tpredictions.append(yhat)\n",
    "\tobs = test[t]\n",
    "\thistory.append(obs)\n",
    "\tOBS.append(obs)\n",
    "\tYHAT.append(yhat)\n",
    "\tprint('predicted=%f, expected=%f' % (yhat, obs))\n",
    "\n",
    "# evaluate forecasts\n",
    "\n",
    "print('Test MAE: %.5f' % mean_absolute_error(test, predictions))\n",
    "print('Test MSE: %.5f' % mean_squared_error(test, predictions))\n",
    "print('Test RMSE: %.5f' % sqrt(mean_squared_error(test, predictions)))\n",
    "# plot forecasts against actual outcomes\n",
    "pyplot.plot(test)\n",
    "pyplot.plot(predictions, color='red')\n",
    "pyplot.ylabel('LPG')\n",
    "pyplot.show()"
   ]
  },
  {
   "cell_type": "code",
   "execution_count": 79,
   "metadata": {},
   "outputs": [],
   "source": [
    "# # evaluate an ARIMA model using a walk-forward validation\n",
    "\n",
    "# from matplotlib import pyplot\n",
    "# from statsmodels.tsa.arima.model import ARIMA\n",
    "# from sklearn.metrics import *\n",
    "# from math import sqrt\n",
    "\n",
    "\n",
    "# # print(data)\n",
    "# # data.index = data.index.to_period('T')\n",
    "# # split into train and test sets\n",
    "# X = data['CO'].values\n",
    "# size = int(len(X) * 0.8)\n",
    "# train, test = X[0:size], X[size:len(X)]\n",
    "# history = [x for x in train]\n",
    "# predictions = list()\n",
    "# # walk-forward validation\n",
    "# for t in range(len(test)):\n",
    "# \tmodel = ARIMA(history, order=(1,1,1))\n",
    "# \tmodel_fit = model.fit()\n",
    "# \toutput = model_fit.forecast()\n",
    "# \tyhat = output[0]\n",
    "# \tpredictions.append(yhat)\n",
    "# \tobs = test[t]\n",
    "# \thistory.append(obs)\n",
    "# \tprint('predicted=%f, expected=%f' % (yhat, obs))\n",
    "\n",
    "# # evaluate forecasts\n",
    "\n",
    "# print('Test MAE: %.5f' % mean_absolute_error(test, predictions))\n",
    "# print('Test MSE: %.5f' % mean_squared_error(test, predictions))\n",
    "# print('Test RMSE: %.5f' % sqrt(mean_squared_error(test, predictions)))\n",
    "# # plot forecasts against actual outcomes\n",
    "# pyplot.plot(test)\n",
    "# pyplot.plot(predictions, color='red')\n",
    "# pyplot.show()"
   ]
  },
  {
   "cell_type": "code",
   "execution_count": 80,
   "metadata": {},
   "outputs": [
    {
     "data": {
      "text/html": [
       "<div>\n",
       "<style scoped>\n",
       "    .dataframe tbody tr th:only-of-type {\n",
       "        vertical-align: middle;\n",
       "    }\n",
       "\n",
       "    .dataframe tbody tr th {\n",
       "        vertical-align: top;\n",
       "    }\n",
       "\n",
       "    .dataframe thead th {\n",
       "        text-align: right;\n",
       "    }\n",
       "</style>\n",
       "<table border=\"1\" class=\"dataframe\">\n",
       "  <thead>\n",
       "    <tr style=\"text-align: right;\">\n",
       "      <th></th>\n",
       "      <th>predicted</th>\n",
       "      <th>expected</th>\n",
       "    </tr>\n",
       "  </thead>\n",
       "  <tbody>\n",
       "    <tr>\n",
       "      <th>0</th>\n",
       "      <td>0.022139</td>\n",
       "      <td>0.01838</td>\n",
       "    </tr>\n",
       "    <tr>\n",
       "      <th>1</th>\n",
       "      <td>0.018795</td>\n",
       "      <td>0.01838</td>\n",
       "    </tr>\n",
       "    <tr>\n",
       "      <th>2</th>\n",
       "      <td>0.018778</td>\n",
       "      <td>0.02381</td>\n",
       "    </tr>\n",
       "    <tr>\n",
       "      <th>3</th>\n",
       "      <td>0.022176</td>\n",
       "      <td>0.01682</td>\n",
       "    </tr>\n",
       "    <tr>\n",
       "      <th>4</th>\n",
       "      <td>0.017847</td>\n",
       "      <td>0.01682</td>\n",
       "    </tr>\n",
       "    <tr>\n",
       "      <th>...</th>\n",
       "      <td>...</td>\n",
       "      <td>...</td>\n",
       "    </tr>\n",
       "    <tr>\n",
       "      <th>81</th>\n",
       "      <td>0.021874</td>\n",
       "      <td>0.01838</td>\n",
       "    </tr>\n",
       "    <tr>\n",
       "      <th>82</th>\n",
       "      <td>0.018543</td>\n",
       "      <td>0.02381</td>\n",
       "    </tr>\n",
       "    <tr>\n",
       "      <th>83</th>\n",
       "      <td>0.021930</td>\n",
       "      <td>0.01682</td>\n",
       "    </tr>\n",
       "    <tr>\n",
       "      <th>84</th>\n",
       "      <td>0.017628</td>\n",
       "      <td>0.01682</td>\n",
       "    </tr>\n",
       "    <tr>\n",
       "      <th>85</th>\n",
       "      <td>0.017600</td>\n",
       "      <td>0.02381</td>\n",
       "    </tr>\n",
       "  </tbody>\n",
       "</table>\n",
       "<p>86 rows × 2 columns</p>\n",
       "</div>"
      ],
      "text/plain": [
       "    predicted  expected\n",
       "0    0.022139   0.01838\n",
       "1    0.018795   0.01838\n",
       "2    0.018778   0.02381\n",
       "3    0.022176   0.01682\n",
       "4    0.017847   0.01682\n",
       "..        ...       ...\n",
       "81   0.021874   0.01838\n",
       "82   0.018543   0.02381\n",
       "83   0.021930   0.01682\n",
       "84   0.017628   0.01682\n",
       "85   0.017600   0.02381\n",
       "\n",
       "[86 rows x 2 columns]"
      ]
     },
     "execution_count": 80,
     "metadata": {},
     "output_type": "execute_result"
    }
   ],
   "source": [
    "import numpy as np\n",
    "df = pd.DataFrame(np.stack((YHAT, OBS), axis=1), columns=['predicted', 'expected'])\n",
    "df"
   ]
  },
  {
   "cell_type": "markdown",
   "metadata": {},
   "source": [
    "<h1> Univariate Time Series Anomaly Detection Using ARIMA Model"
   ]
  },
  {
   "cell_type": "code",
   "execution_count": 81,
   "metadata": {},
   "outputs": [],
   "source": [
    "\n",
    "from statsmodels.tsa.stattools import adfuller\n",
    "def test_stationarity(ts_data, column='', signif=0.05, series=False):\n",
    "    if series:\n",
    "        adf_test = adfuller(ts_data, autolag='AIC')\n",
    "    else:\n",
    "        adf_test = adfuller(ts_data[column], autolag='AIC')\n",
    "    p_value = adf_test[1]\n",
    "    if p_value <= signif:\n",
    "        test_result = \"Stationary\"\n",
    "    else:\n",
    "        test_result = \"Non-Stationary\"\n",
    "    return test_result"
   ]
  },
  {
   "cell_type": "code",
   "execution_count": 82,
   "metadata": {},
   "outputs": [
    {
     "data": {
      "text/plain": [
       "{'LPG': 'Stationary', 'CO': 'Stationary'}"
      ]
     },
     "execution_count": 82,
     "metadata": {},
     "output_type": "execute_result"
    }
   ],
   "source": [
    "test_col_stationary = {col: test_stationarity(data, col) for col in data[['LPG','CO']] } \n",
    "test_col_stationary"
   ]
  },
  {
   "cell_type": "code",
   "execution_count": 83,
   "metadata": {},
   "outputs": [],
   "source": [
    "def differencing(data, column, order):\n",
    "    differenced_data = data[column].diff(order)\n",
    "    differenced_data.fillna(differenced_data.mean(), inplace=True)\n",
    "    return differenced_data\n",
    "preprocessed_data_LPG = differencing(data, 'LPG', 1)\n",
    "preprocessed_data_CO = differencing(data, 'CO', 1)"
   ]
  },
  {
   "cell_type": "code",
   "execution_count": 84,
   "metadata": {},
   "outputs": [
    {
     "name": "stdout",
     "output_type": "stream",
     "text": [
      "Stationary\n",
      "Stationary\n"
     ]
    }
   ],
   "source": [
    "print(test_stationarity(preprocessed_data_LPG, series=True))\n",
    "print(test_stationarity(preprocessed_data_CO, series=True))"
   ]
  },
  {
   "cell_type": "markdown",
   "metadata": {},
   "source": [
    "<h1> LSTM <br>\n"
   ]
  },
  {
   "cell_type": "markdown",
   "metadata": {},
   "source": [
    "[How to do multivariate time series forecasting using lstm](https://analyticsindiamag.com/how-to-do-multivariate-time-series-forecasting-using-lstm/)\n"
   ]
  },
  {
   "cell_type": "markdown",
   "metadata": {},
   "source": [
    "[lstm-time-series-forecasting-predicting-stock-prices-using-an-lstm-model](https://towardsdatascience.com/lstm-time-series-forecasting-predicting-stock-prices-using-an-lstm-model-6223e9644a2f)\n"
   ]
  },
  {
   "cell_type": "markdown",
   "metadata": {},
   "source": [
    "[MediumSuck](https://shivam-sinha.medium.com/time-series-prediction-using-long-short-term-memory-lstm-networks-forecasting-covid-19-confirmed-59ced70ee83c)"
   ]
  },
  {
   "cell_type": "code",
   "execution_count": 85,
   "metadata": {},
   "outputs": [],
   "source": [
    "import pandas as pd\n",
    "import numpy as np\n",
    "import tensorflow as tf\n",
    "from keras.preprocessing.sequence import TimeseriesGenerator\n",
    "\n",
    "import matplotlib.pyplot as plt\n",
    "import pandas as pd\n",
    "from keras.models import Sequential\n",
    "from keras.layers import *\n",
    "from sklearn.metrics import mean_squared_error\n",
    "from sklearn.metrics import mean_absolute_error\n",
    "from sklearn.model_selection import train_test_split"
   ]
  },
  {
   "cell_type": "code",
   "execution_count": 86,
   "metadata": {},
   "outputs": [],
   "source": [
    "def justOneMinute(data, num_prediction ):\n",
    "    li=[]\n",
    "    d = data['date'].dt.date[-1]\n",
    "    dt = datetime.combine(d, data['date'].dt.time[-1])\n",
    "    for i in range(num_prediction):    \n",
    "        li.append(dt + timedelta(minutes=i))\n",
    "    return li"
   ]
  },
  {
   "cell_type": "code",
   "execution_count": 87,
   "metadata": {},
   "outputs": [
    {
     "name": "stderr",
     "output_type": "stream",
     "text": [
      "C:\\Users\\User\\AppData\\Local\\Temp/ipykernel_21084/1000836034.py:38: UserWarning: `Model.fit_generator` is deprecated and will be removed in a future version. Please use `Model.fit`, which supports generators.\n",
      "  model.fit_generator(train_generator, epochs=num_epochs, verbose=1)\n"
     ]
    },
    {
     "name": "stdout",
     "output_type": "stream",
     "text": [
      "Epoch 1/25\n",
      "16/16 [==============================] - 1s 10ms/step - loss: 0.0063\n",
      "Epoch 2/25\n",
      "16/16 [==============================] - 0s 9ms/step - loss: 0.0060\n",
      "Epoch 3/25\n",
      "16/16 [==============================] - 0s 11ms/step - loss: 0.0059\n",
      "Epoch 4/25\n",
      "16/16 [==============================] - 0s 8ms/step - loss: 0.0059\n",
      "Epoch 5/25\n",
      "16/16 [==============================] - 0s 8ms/step - loss: 0.0059\n",
      "Epoch 6/25\n",
      "16/16 [==============================] - 0s 10ms/step - loss: 0.0059\n",
      "Epoch 7/25\n",
      "16/16 [==============================] - 0s 8ms/step - loss: 0.0059\n",
      "Epoch 8/25\n",
      "16/16 [==============================] - 0s 9ms/step - loss: 0.0059\n",
      "Epoch 9/25\n",
      "16/16 [==============================] - 0s 10ms/step - loss: 0.0058\n",
      "Epoch 10/25\n",
      "16/16 [==============================] - 0s 8ms/step - loss: 0.0058\n",
      "Epoch 11/25\n",
      "16/16 [==============================] - 0s 8ms/step - loss: 0.0058\n",
      "Epoch 12/25\n",
      "16/16 [==============================] - 0s 10ms/step - loss: 0.0058\n",
      "Epoch 13/25\n",
      "16/16 [==============================] - 0s 8ms/step - loss: 0.0058\n",
      "Epoch 14/25\n",
      "16/16 [==============================] - 0s 9ms/step - loss: 0.0058\n",
      "Epoch 15/25\n",
      "16/16 [==============================] - 0s 10ms/step - loss: 0.0058\n",
      "Epoch 16/25\n",
      "16/16 [==============================] - 0s 9ms/step - loss: 0.0058\n",
      "Epoch 17/25\n",
      "16/16 [==============================] - 0s 9ms/step - loss: 0.0058\n",
      "Epoch 18/25\n",
      "16/16 [==============================] - 0s 10ms/step - loss: 0.0058\n",
      "Epoch 19/25\n",
      "16/16 [==============================] - 0s 9ms/step - loss: 0.0058\n",
      "Epoch 20/25\n",
      "16/16 [==============================] - 0s 9ms/step - loss: 0.0058\n",
      "Epoch 21/25\n",
      "16/16 [==============================] - 0s 9ms/step - loss: 0.0058\n",
      "Epoch 22/25\n",
      "16/16 [==============================] - 0s 9ms/step - loss: 0.0058\n",
      "Epoch 23/25\n",
      "16/16 [==============================] - 0s 9ms/step - loss: 0.0058\n",
      "Epoch 24/25\n",
      "16/16 [==============================] - 0s 9ms/step - loss: 0.0058\n",
      "Epoch 25/25\n",
      "16/16 [==============================] - 0s 9ms/step - loss: 0.0058\n"
     ]
    }
   ],
   "source": [
    "LPG_data = data['LPG'].values\n",
    "LPG_data = LPG_data.reshape((-1,1))\n",
    "\n",
    "CO_data = data['CO'].values\n",
    "CO_data = CO_data.reshape((-1,1))\n",
    "\n",
    "split_percent = 0.80\n",
    "split = int(split_percent*len(LPG_data))\n",
    "\n",
    "\n",
    "LPG_train = LPG_data[:split]\n",
    "LPG_test = LPG_data[split:]\n",
    "\n",
    "CO_train = CO_data[:split]\n",
    "CO_test = CO_data[split:]\n",
    "\n",
    "date_train = data[:split]\n",
    "date_test = data[split:]\n",
    "\n",
    "look_back = 30\n",
    "\n",
    "train_generator = TimeseriesGenerator(LPG_train, LPG_train, length=look_back, batch_size=20)     \n",
    "test_generator = TimeseriesGenerator(LPG_test, LPG_test, length=look_back, batch_size=1)\n",
    "\n",
    "from keras.models import Sequential\n",
    "from keras.layers import LSTM, Dense\n",
    "\n",
    "model = Sequential()\n",
    "model.add(\n",
    "    LSTM(10,\n",
    "        activation='relu',\n",
    "        input_shape=(look_back,1))\n",
    ")\n",
    "model.add(Dense(1))\n",
    "model.compile(optimizer='adam', loss='mse')\n",
    "\n",
    "num_epochs = 25\n",
    "model.fit_generator(train_generator, epochs=num_epochs, verbose=1)\n",
    "\n",
    "prediction = model.predict(test_generator)\n",
    "\n",
    "LPG_data = LPG_data.reshape((-1))\n",
    "\n",
    "def predict(num_prediction, model):\n",
    "    prediction_list = LPG_data[-look_back:]\n",
    "    \n",
    "    for _ in range(num_prediction):\n",
    "        x = prediction_list[-look_back:]\n",
    "        x = x.reshape((1, look_back, 1))\n",
    "        out = model.predict(x)[0][0]\n",
    "        prediction_list = np.append(prediction_list, out)\n",
    "    prediction_list = prediction_list[look_back-1:]\n",
    "        \n",
    "    return prediction_list\n",
    "    \n",
    "def predict_minutes(num_prediction):\n",
    "    last_minute = date_train\n",
    "    prediction_minute = justOneMinute(last_minute, num_prediction+1)\n",
    "    return prediction_minute\n",
    "\n",
    "num_prediction = 30\n",
    "forecast = predict(num_prediction, model)\n",
    "forecast_dates = predict_minutes(num_prediction)\n"
   ]
  },
  {
   "cell_type": "code",
   "execution_count": 88,
   "metadata": {},
   "outputs": [
    {
     "data": {
      "text/plain": [
       "array([0.02381   , 0.02613474, 0.02633789, 0.02649519, 0.02661623,\n",
       "       0.0267094 , 0.02678109, 0.02683624, 0.02687868, 0.0269113 ,\n",
       "       0.02693642, 0.02695574, 0.02697061, 0.02698204, 0.02699084,\n",
       "       0.02699761, 0.02700279, 0.02700678, 0.02700987, 0.02701224,\n",
       "       0.02701407, 0.02701548, 0.02701656, 0.02701737, 0.02701802,\n",
       "       0.02701851, 0.02701887, 0.02701917, 0.02701937, 0.02701956,\n",
       "       0.0270197 ])"
      ]
     },
     "execution_count": 88,
     "metadata": {},
     "output_type": "execute_result"
    }
   ],
   "source": [
    "forecast"
   ]
  },
  {
   "cell_type": "code",
   "execution_count": 89,
   "metadata": {},
   "outputs": [
    {
     "data": {
      "text/plain": [
       "[<matplotlib.lines.Line2D at 0x1c30f3bfd60>]"
      ]
     },
     "execution_count": 89,
     "metadata": {},
     "output_type": "execute_result"
    },
    {
     "data": {
      "image/png": "[encoded data removed]",
      "text/plain": [
       "<Figure size 432x288 with 1 Axes>"
      ]
     },
     "metadata": {
      "needs_background": "light"
     },
     "output_type": "display_data"
    }
   ],
   "source": [
    "plt.plot(date_test['date'][:55], LPG_test[:55], color = 'blue', label = 'Real data')"
   ]
  },
  {
   "cell_type": "code",
   "execution_count": 90,
   "metadata": {},
   "outputs": [
    {
     "data": {
      "image/png": "[encoded data removed]",
      "text/plain": [
       "<Figure size 1080x720 with 1 Axes>"
      ]
     },
     "metadata": {
      "needs_background": "light"
     },
     "output_type": "display_data"
    }
   ],
   "source": [
    "# Visualising the results\n",
    "plt.figure(figsize=(15,10))\n",
    "plt.plot(date_test['date'][:55], LPG_test[:55], color = 'blue', label = 'Real data')\n",
    "plt.plot(forecast_dates, forecast, color = 'red', label = 'Predicted' )\n",
    "plt.title('LPG Prediction')\n",
    "plt.xlabel('Minutes')\n",
    "plt.ylabel('LPG')\n",
    "plt.legend()\n",
    "plt.show()"
   ]
  },
  {
   "cell_type": "code",
   "execution_count": 91,
   "metadata": {},
   "outputs": [
    {
     "name": "stdout",
     "output_type": "stream",
     "text": [
      "Mean Absolute Error: 0.00763\n",
      "Mean Squared Error: 0.00007\n",
      "Test RMSE: 0.00827\n"
     ]
    }
   ],
   "source": [
    "# evaluate forecasts\n",
    "rmse = sqrt(mean_squared_error(LPG_test[:31], forecast))\n",
    "print('Mean Absolute Error: %.5f' % mean_absolute_error(LPG_test[:31], forecast))\n",
    "print('Mean Squared Error: %.5f' % mean_squared_error(LPG_test[:31], forecast))\n",
    "print('Test RMSE: %.5f' % rmse)"
   ]
  },
  {
   "cell_type": "markdown",
   "metadata": {},
   "source": [
    "<h1> Linear Regressing\n"
   ]
  },
  {
   "cell_type": "code",
   "execution_count": 92,
   "metadata": {},
   "outputs": [],
   "source": [
    "\n",
    "import numpy as np \n",
    "import matplotlib.pyplot as plt"
   ]
  },
  {
   "cell_type": "code",
   "execution_count": 93,
   "metadata": {},
   "outputs": [],
   "source": [
    "lpg = data['LPG'].values.reshape(len(data), 1)\n",
    "co = data['CO'].values"
   ]
  },
  {
   "cell_type": "code",
   "execution_count": 94,
   "metadata": {},
   "outputs": [
    {
     "data": {
      "image/png": "[encoded data removed]",
      "text/plain": [
       "<Figure size 432x288 with 1 Axes>"
      ]
     },
     "metadata": {
      "needs_background": "light"
     },
     "output_type": "display_data"
    }
   ],
   "source": [
    "plt.plot(lpg, co , 'ro')\n",
    "plt.xlabel('LPG')\n",
    "plt.ylabel('CO')\n",
    "plt.show()"
   ]
  },
  {
   "cell_type": "code",
   "execution_count": 95,
   "metadata": {},
   "outputs": [],
   "source": [
    "from sklearn.model_selection import train_test_split\n",
    "X_train, X_test, y_train, y_test = train_test_split(lpg, co, test_size=0.2, random_state=0)"
   ]
  },
  {
   "cell_type": "code",
   "execution_count": 96,
   "metadata": {},
   "outputs": [
    {
     "data": {
      "text/plain": [
       "LinearRegression()"
      ]
     },
     "execution_count": 96,
     "metadata": {},
     "output_type": "execute_result"
    }
   ],
   "source": [
    "from sklearn.linear_model import LinearRegression\n",
    "regressor = LinearRegression()\n",
    "regressor.fit(X_train, y_train)"
   ]
  },
  {
   "cell_type": "code",
   "execution_count": 97,
   "metadata": {},
   "outputs": [
    {
     "name": "stdout",
     "output_type": "stream",
     "text": [
      "coefficient of determination: 0.5374642225879125\n"
     ]
    }
   ],
   "source": [
    "r_sq = regressor.score(X_train, y_train)\n",
    "print('coefficient of determination:', r_sq)"
   ]
  },
  {
   "cell_type": "code",
   "execution_count": 98,
   "metadata": {},
   "outputs": [
    {
     "name": "stdout",
     "output_type": "stream",
     "text": [
      "intercept: 2.5463037731415468\n",
      "slope: [0.84555416]\n"
     ]
    }
   ],
   "source": [
    "print('intercept:', regressor.intercept_)\n",
    "print('slope:', regressor.coef_)\n"
   ]
  },
  {
   "cell_type": "code",
   "execution_count": 99,
   "metadata": {},
   "outputs": [
    {
     "data": {
      "text/plain": [
       "array([2.55929994, 2.56052599, 2.56327405, 2.55929994, 2.56875958,\n",
       "       2.56479604, 2.56052599, 2.56052599, 2.56643642, 2.56327405,\n",
       "       2.56596291, 2.56184506, 2.56184506, 2.55929994, 2.56479604,\n",
       "       2.55929994, 2.56052599, 2.56052599, 2.55929994, 2.56052599,\n",
       "       2.56052599, 2.56819517, 2.56184506, 3.24361538, 2.67629081,\n",
       "       2.56643642, 2.55929994, 2.56479604, 2.56643642, 2.5674384 ,\n",
       "       2.56479604, 2.56052599, 2.55929994, 2.56184506, 2.55929994,\n",
       "       2.55929994, 2.55929994, 2.56643642, 2.56643642, 2.56479604,\n",
       "       2.56819517, 2.56643642, 2.56052599, 2.55929994, 2.56545663,\n",
       "       2.56184506, 2.56327405, 2.56184506, 2.56643642, 2.56479604,\n",
       "       2.56184506, 2.56479604, 2.58164794, 2.56479604, 2.56479604,\n",
       "       2.56052599, 2.56052599, 2.56052599, 2.56327405, 2.56643642,\n",
       "       2.55929994, 2.56327405, 2.56052599, 2.56052599, 2.56052599,\n",
       "       2.56327405, 2.55929994, 2.56479604, 2.56643642, 2.55929994,\n",
       "       2.56479604, 2.56643642, 2.56052599, 2.56184506, 2.55929994,\n",
       "       2.55929994, 2.56052599, 2.57063037, 2.56621657, 2.56819517,\n",
       "       2.56327405, 2.56819517, 2.55929994, 2.58741462, 2.56052599,\n",
       "       2.55929994])"
      ]
     },
     "execution_count": 99,
     "metadata": {},
     "output_type": "execute_result"
    }
   ],
   "source": [
    "regressor.predict(X_test)"
   ]
  },
  {
   "cell_type": "code",
   "execution_count": 100,
   "metadata": {},
   "outputs": [],
   "source": [
    "def LinearPredictForCO(arr):\n",
    "    CO_pred = regressor.intercept_ + regressor.coef_ * arr\n",
    "    return CO_pred"
   ]
  },
  {
   "cell_type": "code",
   "execution_count": 101,
   "metadata": {},
   "outputs": [
    {
     "name": "stdout",
     "output_type": "stream",
     "text": [
      "predicted response:\n",
      "[[2.55929994]\n",
      " [2.56052599]\n",
      " [2.56327405]\n",
      " [2.55929994]\n",
      " [2.56875958]\n",
      " [2.56479604]\n",
      " [2.56052599]\n",
      " [2.56052599]\n",
      " [2.56643642]\n",
      " [2.56327405]\n",
      " [2.56596291]\n",
      " [2.56184506]\n",
      " [2.56184506]\n",
      " [2.55929994]\n",
      " [2.56479604]\n",
      " [2.55929994]\n",
      " [2.56052599]\n",
      " [2.56052599]\n",
      " [2.55929994]\n",
      " [2.56052599]\n",
      " [2.56052599]\n",
      " [2.56819517]\n",
      " [2.56184506]\n",
      " [3.24361538]\n",
      " [2.67629081]\n",
      " [2.56643642]\n",
      " [2.55929994]\n",
      " [2.56479604]\n",
      " [2.56643642]\n",
      " [2.5674384 ]\n",
      " [2.56479604]\n",
      " [2.56052599]\n",
      " [2.55929994]\n",
      " [2.56184506]\n",
      " [2.55929994]\n",
      " [2.55929994]\n",
      " [2.55929994]\n",
      " [2.56643642]\n",
      " [2.56643642]\n",
      " [2.56479604]\n",
      " [2.56819517]\n",
      " [2.56643642]\n",
      " [2.56052599]\n",
      " [2.55929994]\n",
      " [2.56545663]\n",
      " [2.56184506]\n",
      " [2.56327405]\n",
      " [2.56184506]\n",
      " [2.56643642]\n",
      " [2.56479604]\n",
      " [2.56184506]\n",
      " [2.56479604]\n",
      " [2.58164794]\n",
      " [2.56479604]\n",
      " [2.56479604]\n",
      " [2.56052599]\n",
      " [2.56052599]\n",
      " [2.56052599]\n",
      " [2.56327405]\n",
      " [2.56643642]\n",
      " [2.55929994]\n",
      " [2.56327405]\n",
      " [2.56052599]\n",
      " [2.56052599]\n",
      " [2.56052599]\n",
      " [2.56327405]\n",
      " [2.55929994]\n",
      " [2.56479604]\n",
      " [2.56643642]\n",
      " [2.55929994]\n",
      " [2.56479604]\n",
      " [2.56643642]\n",
      " [2.56052599]\n",
      " [2.56184506]\n",
      " [2.55929994]\n",
      " [2.55929994]\n",
      " [2.56052599]\n",
      " [2.57063037]\n",
      " [2.56621657]\n",
      " [2.56819517]\n",
      " [2.56327405]\n",
      " [2.56819517]\n",
      " [2.55929994]\n",
      " [2.58741462]\n",
      " [2.56052599]\n",
      " [2.55929994]]\n"
     ]
    }
   ],
   "source": [
    "CO_pred = LinearPredictForCO(X_test)\n",
    "print('predicted response:', CO_pred, sep='\\n')"
   ]
  },
  {
   "cell_type": "code",
   "execution_count": 102,
   "metadata": {},
   "outputs": [
    {
     "data": {
      "text/plain": [
       "<matplotlib.collections.PathCollection at 0x1c309ee1490>"
      ]
     },
     "execution_count": 102,
     "metadata": {},
     "output_type": "execute_result"
    },
    {
     "data": {
      "image/png": "[encoded data removed]",
      "text/plain": [
       "<Figure size 432x288 with 1 Axes>"
      ]
     },
     "metadata": {
      "needs_background": "light"
     },
     "output_type": "display_data"
    }
   ],
   "source": [
    "plt.scatter(X_test, y_test )\n",
    "plt.scatter(X_test, CO_pred)\n",
    "\n",
    "# plt.plot(X_test, y_test, color = 'blue', label = 'Real data')\n",
    "# plt.plot(X_test, CO_pred, color = 'red', label = 'Predicted' )"
   ]
  },
  {
   "cell_type": "code",
   "execution_count": 103,
   "metadata": {},
   "outputs": [
    {
     "name": "stdout",
     "output_type": "stream",
     "text": [
      "Mean Absolute Error: 0.07577\n",
      "Mean Squared Error:  0.01440\n",
      "Test RMSE: 0.12001\n"
     ]
    }
   ],
   "source": [
    "from sklearn.metrics import *\n",
    "\n",
    "print('Mean Absolute Error: %.5f' % mean_absolute_error(y_test, CO_pred))\n",
    "print('Mean Squared Error:  %.5f' % mean_squared_error(y_test, CO_pred))\n",
    "print('Test RMSE: %.5f' % np.sqrt(mean_squared_error(y_test, CO_pred)))\n"
   ]
  },
  {
   "cell_type": "code",
   "execution_count": 104,
   "metadata": {},
   "outputs": [
    {
     "data": {
      "text/plain": [
       "array([2.56502356, 2.56219581, 2.56218154, 2.56505445, 2.56139434,\n",
       "       2.5613644 , 2.56503785, 2.56508577, 2.56513176, 2.56517891,\n",
       "       2.56234586, 2.56150024, 2.56147879, 2.56514099, 2.56518275,\n",
       "       2.56150082, 2.56149164, 2.56145461, 2.56142294, 2.56139212,\n",
       "       2.56136146, 2.56133352, 2.56130746, 2.5649788 , 2.56132837,\n",
       "       2.56130016, 2.56127796, 2.56124937, 2.56492262, 2.56394775,\n",
       "       2.56130534, 2.56128032, 2.56495193, 2.56130408, 2.56127631,\n",
       "       2.56124555, 2.56492534, 2.56496337, 2.561336  , 2.56130135,\n",
       "       2.56127482, 2.56125091, 2.56122514, 2.56119853, 2.56117807,\n",
       "       2.56115432, 2.56483438, 2.56488447, 2.56124377, 2.56121761,\n",
       "       2.56386494, 2.56492283, 2.56127651, 2.56125285, 2.56123346,\n",
       "       2.56490495, 2.56125729, 2.56122974, 2.56203314, 2.56489702,\n",
       "       2.56125147, 2.56122843, 2.56120457, 2.56118089, 2.5648618 ,\n",
       "       2.5612134 , 2.56119049, 2.56116834, 2.56114619, 2.56112888,\n",
       "       2.56110916, 2.5647817 , 2.56483922, 2.56119446, 2.56117425,\n",
       "       2.56115128, 2.56113105, 2.5611075 , 2.5647832 , 2.56114411,\n",
       "       2.56113096, 2.56479977, 2.5619832 , 2.56484697, 2.56120895,\n",
       "       2.56118528])"
      ]
     },
     "execution_count": 104,
     "metadata": {},
     "output_type": "execute_result"
    }
   ],
   "source": [
    "ARIMA_Combine = LinearPredictForCO(df['predicted'].values)\n",
    "ARIMA_Combine"
   ]
  },
  {
   "cell_type": "code",
   "execution_count": 105,
   "metadata": {},
   "outputs": [
    {
     "name": "stderr",
     "output_type": "stream",
     "text": [
      "C:\\Users\\User\\AppData\\Local\\Programs\\Python\\Python39\\lib\\site-packages\\statsmodels\\tsa\\statespace\\sarimax.py:978: UserWarning: Non-invertible starting MA parameters found. Using zeros as starting parameters.\n",
      "  warn('Non-invertible starting MA parameters found.'\n",
      "C:\\Users\\User\\AppData\\Local\\Programs\\Python\\Python39\\lib\\site-packages\\statsmodels\\tsa\\statespace\\sarimax.py:978: UserWarning: Non-invertible starting MA parameters found. Using zeros as starting parameters.\n",
      "  warn('Non-invertible starting MA parameters found.'\n"
     ]
    },
    {
     "name": "stdout",
     "output_type": "stream",
     "text": [
      "predicted=2.663519, expected=2.530680\n",
      "predicted=2.572808, expected=2.530680\n"
     ]
    },
    {
     "name": "stderr",
     "output_type": "stream",
     "text": [
      "C:\\Users\\User\\AppData\\Local\\Programs\\Python\\Python39\\lib\\site-packages\\statsmodels\\tsa\\statespace\\sarimax.py:978: UserWarning: Non-invertible starting MA parameters found. Using zeros as starting parameters.\n",
      "  warn('Non-invertible starting MA parameters found.'\n"
     ]
    },
    {
     "name": "stdout",
     "output_type": "stream",
     "text": [
      "predicted=2.558298, expected=2.652870\n",
      "predicted=2.624526, expected=2.530680\n"
     ]
    },
    {
     "name": "stderr",
     "output_type": "stream",
     "text": [
      "C:\\Users\\User\\AppData\\Local\\Programs\\Python\\Python39\\lib\\site-packages\\statsmodels\\tsa\\statespace\\sarimax.py:978: UserWarning: Non-invertible starting MA parameters found. Using zeros as starting parameters.\n",
      "  warn('Non-invertible starting MA parameters found.'\n",
      "C:\\Users\\User\\AppData\\Local\\Programs\\Python\\Python39\\lib\\site-packages\\statsmodels\\tsa\\statespace\\sarimax.py:978: UserWarning: Non-invertible starting MA parameters found. Using zeros as starting parameters.\n",
      "  warn('Non-invertible starting MA parameters found.'\n"
     ]
    },
    {
     "name": "stdout",
     "output_type": "stream",
     "text": [
      "predicted=2.558805, expected=2.530680\n",
      "predicted=2.549116, expected=2.652870\n"
     ]
    },
    {
     "name": "stderr",
     "output_type": "stream",
     "text": [
      "C:\\Users\\User\\AppData\\Local\\Programs\\Python\\Python39\\lib\\site-packages\\statsmodels\\tsa\\statespace\\sarimax.py:978: UserWarning: Non-invertible starting MA parameters found. Using zeros as starting parameters.\n",
      "  warn('Non-invertible starting MA parameters found.'\n",
      "C:\\Users\\User\\AppData\\Local\\Programs\\Python\\Python39\\lib\\site-packages\\statsmodels\\tsa\\statespace\\sarimax.py:978: UserWarning: Non-invertible starting MA parameters found. Using zeros as starting parameters.\n",
      "  warn('Non-invertible starting MA parameters found.'\n"
     ]
    },
    {
     "name": "stdout",
     "output_type": "stream",
     "text": [
      "predicted=2.618086, expected=2.652870\n",
      "predicted=2.630025, expected=2.652870\n"
     ]
    },
    {
     "name": "stderr",
     "output_type": "stream",
     "text": [
      "C:\\Users\\User\\AppData\\Local\\Programs\\Python\\Python39\\lib\\site-packages\\statsmodels\\tsa\\statespace\\sarimax.py:978: UserWarning: Non-invertible starting MA parameters found. Using zeros as starting parameters.\n",
      "  warn('Non-invertible starting MA parameters found.'\n",
      "C:\\Users\\User\\AppData\\Local\\Programs\\Python\\Python39\\lib\\site-packages\\statsmodels\\tsa\\statespace\\sarimax.py:978: UserWarning: Non-invertible starting MA parameters found. Using zeros as starting parameters.\n",
      "  warn('Non-invertible starting MA parameters found.'\n"
     ]
    },
    {
     "name": "stdout",
     "output_type": "stream",
     "text": [
      "predicted=2.637817, expected=2.652870\n",
      "predicted=2.642964, expected=2.530680\n"
     ]
    },
    {
     "name": "stderr",
     "output_type": "stream",
     "text": [
      "C:\\Users\\User\\AppData\\Local\\Programs\\Python\\Python39\\lib\\site-packages\\statsmodels\\tsa\\statespace\\sarimax.py:978: UserWarning: Non-invertible starting MA parameters found. Using zeros as starting parameters.\n",
      "  warn('Non-invertible starting MA parameters found.'\n",
      "C:\\Users\\User\\AppData\\Local\\Programs\\Python\\Python39\\lib\\site-packages\\statsmodels\\tsa\\statespace\\sarimax.py:978: UserWarning: Non-invertible starting MA parameters found. Using zeros as starting parameters.\n",
      "  warn('Non-invertible starting MA parameters found.'\n"
     ]
    },
    {
     "name": "stdout",
     "output_type": "stream",
     "text": [
      "predicted=2.570898, expected=2.530680\n",
      "predicted=2.557295, expected=2.530680\n"
     ]
    },
    {
     "name": "stderr",
     "output_type": "stream",
     "text": [
      "C:\\Users\\User\\AppData\\Local\\Programs\\Python\\Python39\\lib\\site-packages\\statsmodels\\tsa\\statespace\\sarimax.py:978: UserWarning: Non-invertible starting MA parameters found. Using zeros as starting parameters.\n",
      "  warn('Non-invertible starting MA parameters found.'\n",
      "C:\\Users\\User\\AppData\\Local\\Programs\\Python\\Python39\\lib\\site-packages\\statsmodels\\tsa\\statespace\\sarimax.py:978: UserWarning: Non-invertible starting MA parameters found. Using zeros as starting parameters.\n",
      "  warn('Non-invertible starting MA parameters found.'\n"
     ]
    },
    {
     "name": "stdout",
     "output_type": "stream",
     "text": [
      "predicted=2.548301, expected=2.652870\n",
      "predicted=2.617919, expected=2.652870\n"
     ]
    },
    {
     "name": "stderr",
     "output_type": "stream",
     "text": [
      "C:\\Users\\User\\AppData\\Local\\Programs\\Python\\Python39\\lib\\site-packages\\statsmodels\\tsa\\statespace\\sarimax.py:978: UserWarning: Non-invertible starting MA parameters found. Using zeros as starting parameters.\n",
      "  warn('Non-invertible starting MA parameters found.'\n",
      "C:\\Users\\User\\AppData\\Local\\Programs\\Python\\Python39\\lib\\site-packages\\statsmodels\\tsa\\statespace\\sarimax.py:978: UserWarning: Non-invertible starting MA parameters found. Using zeros as starting parameters.\n",
      "  warn('Non-invertible starting MA parameters found.'\n"
     ]
    },
    {
     "name": "stdout",
     "output_type": "stream",
     "text": [
      "predicted=2.629592, expected=2.530680\n",
      "predicted=2.561979, expected=2.530680\n"
     ]
    },
    {
     "name": "stderr",
     "output_type": "stream",
     "text": [
      "C:\\Users\\User\\AppData\\Local\\Programs\\Python\\Python39\\lib\\site-packages\\statsmodels\\tsa\\statespace\\sarimax.py:978: UserWarning: Non-invertible starting MA parameters found. Using zeros as starting parameters.\n",
      "  warn('Non-invertible starting MA parameters found.'\n",
      "C:\\Users\\User\\AppData\\Local\\Programs\\Python\\Python39\\lib\\site-packages\\statsmodels\\tsa\\statespace\\sarimax.py:978: UserWarning: Non-invertible starting MA parameters found. Using zeros as starting parameters.\n",
      "  warn('Non-invertible starting MA parameters found.'\n"
     ]
    },
    {
     "name": "stdout",
     "output_type": "stream",
     "text": [
      "predicted=2.551590, expected=2.530680\n",
      "predicted=2.544661, expected=2.530680\n"
     ]
    },
    {
     "name": "stderr",
     "output_type": "stream",
     "text": [
      "C:\\Users\\User\\AppData\\Local\\Programs\\Python\\Python39\\lib\\site-packages\\statsmodels\\tsa\\statespace\\sarimax.py:978: UserWarning: Non-invertible starting MA parameters found. Using zeros as starting parameters.\n",
      "  warn('Non-invertible starting MA parameters found.'\n",
      "C:\\Users\\User\\AppData\\Local\\Programs\\Python\\Python39\\lib\\site-packages\\statsmodels\\tsa\\statespace\\sarimax.py:978: UserWarning: Non-invertible starting MA parameters found. Using zeros as starting parameters.\n",
      "  warn('Non-invertible starting MA parameters found.'\n"
     ]
    },
    {
     "name": "stdout",
     "output_type": "stream",
     "text": [
      "predicted=2.540026, expected=2.530680\n",
      "predicted=2.536949, expected=2.530680\n"
     ]
    },
    {
     "name": "stderr",
     "output_type": "stream",
     "text": [
      "C:\\Users\\User\\AppData\\Local\\Programs\\Python\\Python39\\lib\\site-packages\\statsmodels\\tsa\\statespace\\sarimax.py:978: UserWarning: Non-invertible starting MA parameters found. Using zeros as starting parameters.\n",
      "  warn('Non-invertible starting MA parameters found.'\n",
      "C:\\Users\\User\\AppData\\Local\\Programs\\Python\\Python39\\lib\\site-packages\\statsmodels\\tsa\\statespace\\sarimax.py:978: UserWarning: Non-invertible starting MA parameters found. Using zeros as starting parameters.\n",
      "  warn('Non-invertible starting MA parameters found.'\n"
     ]
    },
    {
     "name": "stdout",
     "output_type": "stream",
     "text": [
      "predicted=2.534851, expected=2.530680\n",
      "predicted=2.533473, expected=2.530680\n"
     ]
    },
    {
     "name": "stderr",
     "output_type": "stream",
     "text": [
      "C:\\Users\\User\\AppData\\Local\\Programs\\Python\\Python39\\lib\\site-packages\\statsmodels\\tsa\\statespace\\sarimax.py:978: UserWarning: Non-invertible starting MA parameters found. Using zeros as starting parameters.\n",
      "  warn('Non-invertible starting MA parameters found.'\n",
      "C:\\Users\\User\\AppData\\Local\\Programs\\Python\\Python39\\lib\\site-packages\\statsmodels\\tsa\\statespace\\sarimax.py:978: UserWarning: Non-invertible starting MA parameters found. Using zeros as starting parameters.\n",
      "  warn('Non-invertible starting MA parameters found.'\n",
      "C:\\Users\\User\\AppData\\Local\\Programs\\Python\\Python39\\lib\\site-packages\\statsmodels\\base\\model.py:604: ConvergenceWarning: Maximum Likelihood optimization failed to converge. Check mle_retvals\n",
      "  warnings.warn(\"Maximum Likelihood optimization failed to \"\n",
      "C:\\Users\\User\\AppData\\Local\\Programs\\Python\\Python39\\lib\\site-packages\\statsmodels\\tsa\\statespace\\sarimax.py:978: UserWarning: Non-invertible starting MA parameters found. Using zeros as starting parameters.\n",
      "  warn('Non-invertible starting MA parameters found.'\n",
      "C:\\Users\\User\\AppData\\Local\\Programs\\Python\\Python39\\lib\\site-packages\\statsmodels\\tsa\\statespace\\sarimax.py:978: UserWarning: Non-invertible starting MA parameters found. Using zeros as starting parameters.\n",
      "  warn('Non-invertible starting MA parameters found.'\n"
     ]
    },
    {
     "name": "stdout",
     "output_type": "stream",
     "text": [
      "predicted=2.532550, expected=2.652870\n",
      "predicted=2.607348, expected=2.530680\n",
      "predicted=2.547089, expected=2.530680\n",
      "predicted=2.541661, expected=2.530680\n"
     ]
    },
    {
     "name": "stderr",
     "output_type": "stream",
     "text": [
      "C:\\Users\\User\\AppData\\Local\\Programs\\Python\\Python39\\lib\\site-packages\\statsmodels\\tsa\\statespace\\sarimax.py:978: UserWarning: Non-invertible starting MA parameters found. Using zeros as starting parameters.\n",
      "  warn('Non-invertible starting MA parameters found.'\n",
      "C:\\Users\\User\\AppData\\Local\\Programs\\Python\\Python39\\lib\\site-packages\\statsmodels\\tsa\\statespace\\sarimax.py:978: UserWarning: Non-invertible starting MA parameters found. Using zeros as starting parameters.\n",
      "  warn('Non-invertible starting MA parameters found.'\n"
     ]
    },
    {
     "name": "stdout",
     "output_type": "stream",
     "text": [
      "predicted=2.538036, expected=2.530680\n",
      "predicted=2.535612, expected=2.652870\n"
     ]
    },
    {
     "name": "stderr",
     "output_type": "stream",
     "text": [
      "C:\\Users\\User\\AppData\\Local\\Programs\\Python\\Python39\\lib\\site-packages\\statsmodels\\tsa\\statespace\\sarimax.py:978: UserWarning: Non-invertible starting MA parameters found. Using zeros as starting parameters.\n",
      "  warn('Non-invertible starting MA parameters found.'\n",
      "C:\\Users\\User\\AppData\\Local\\Programs\\Python\\Python39\\lib\\site-packages\\statsmodels\\tsa\\statespace\\sarimax.py:978: UserWarning: Non-invertible starting MA parameters found. Using zeros as starting parameters.\n",
      "  warn('Non-invertible starting MA parameters found.'\n"
     ]
    },
    {
     "name": "stdout",
     "output_type": "stream",
     "text": [
      "predicted=2.609089, expected=2.652870\n",
      "predicted=2.623559, expected=2.530680\n"
     ]
    },
    {
     "name": "stderr",
     "output_type": "stream",
     "text": [
      "C:\\Users\\User\\AppData\\Local\\Programs\\Python\\Python39\\lib\\site-packages\\statsmodels\\tsa\\statespace\\sarimax.py:978: UserWarning: Non-invertible starting MA parameters found. Using zeros as starting parameters.\n",
      "  warn('Non-invertible starting MA parameters found.'\n",
      "C:\\Users\\User\\AppData\\Local\\Programs\\Python\\Python39\\lib\\site-packages\\statsmodels\\tsa\\statespace\\sarimax.py:978: UserWarning: Non-invertible starting MA parameters found. Using zeros as starting parameters.\n",
      "  warn('Non-invertible starting MA parameters found.'\n"
     ]
    },
    {
     "name": "stdout",
     "output_type": "stream",
     "text": [
      "predicted=2.557878, expected=2.530680\n",
      "predicted=2.549013, expected=2.530680\n"
     ]
    },
    {
     "name": "stderr",
     "output_type": "stream",
     "text": [
      "C:\\Users\\User\\AppData\\Local\\Programs\\Python\\Python39\\lib\\site-packages\\statsmodels\\tsa\\statespace\\sarimax.py:978: UserWarning: Non-invertible starting MA parameters found. Using zeros as starting parameters.\n",
      "  warn('Non-invertible starting MA parameters found.'\n",
      "C:\\Users\\User\\AppData\\Local\\Programs\\Python\\Python39\\lib\\site-packages\\statsmodels\\tsa\\statespace\\sarimax.py:978: UserWarning: Non-invertible starting MA parameters found. Using zeros as starting parameters.\n",
      "  warn('Non-invertible starting MA parameters found.'\n"
     ]
    },
    {
     "name": "stdout",
     "output_type": "stream",
     "text": [
      "predicted=2.543070, expected=2.530680\n",
      "predicted=2.539042, expected=2.530680\n"
     ]
    },
    {
     "name": "stderr",
     "output_type": "stream",
     "text": [
      "C:\\Users\\User\\AppData\\Local\\Programs\\Python\\Python39\\lib\\site-packages\\statsmodels\\tsa\\statespace\\sarimax.py:978: UserWarning: Non-invertible starting MA parameters found. Using zeros as starting parameters.\n",
      "  warn('Non-invertible starting MA parameters found.'\n",
      "C:\\Users\\User\\AppData\\Local\\Programs\\Python\\Python39\\lib\\site-packages\\statsmodels\\tsa\\statespace\\sarimax.py:978: UserWarning: Non-invertible starting MA parameters found. Using zeros as starting parameters.\n",
      "  warn('Non-invertible starting MA parameters found.'\n"
     ]
    },
    {
     "name": "stdout",
     "output_type": "stream",
     "text": [
      "predicted=2.536333, expected=2.530680\n"
     ]
    },
    {
     "name": "stderr",
     "output_type": "stream",
     "text": [
      "C:\\Users\\User\\AppData\\Local\\Programs\\Python\\Python39\\lib\\site-packages\\statsmodels\\tsa\\statespace\\sarimax.py:978: UserWarning: Non-invertible starting MA parameters found. Using zeros as starting parameters.\n",
      "  warn('Non-invertible starting MA parameters found.'\n"
     ]
    },
    {
     "name": "stdout",
     "output_type": "stream",
     "text": [
      "predicted=2.534505, expected=2.530680\n",
      "predicted=2.533268, expected=2.652870\n"
     ]
    },
    {
     "name": "stderr",
     "output_type": "stream",
     "text": [
      "C:\\Users\\User\\AppData\\Local\\Programs\\Python\\Python39\\lib\\site-packages\\statsmodels\\tsa\\statespace\\sarimax.py:978: UserWarning: Non-invertible starting MA parameters found. Using zeros as starting parameters.\n",
      "  warn('Non-invertible starting MA parameters found.'\n",
      "C:\\Users\\User\\AppData\\Local\\Programs\\Python\\Python39\\lib\\site-packages\\statsmodels\\tsa\\statespace\\sarimax.py:978: UserWarning: Non-invertible starting MA parameters found. Using zeros as starting parameters.\n",
      "  warn('Non-invertible starting MA parameters found.'\n"
     ]
    },
    {
     "name": "stdout",
     "output_type": "stream",
     "text": [
      "predicted=2.607583, expected=2.530680\n",
      "predicted=2.547199, expected=2.652870\n"
     ]
    },
    {
     "name": "stderr",
     "output_type": "stream",
     "text": [
      "C:\\Users\\User\\AppData\\Local\\Programs\\Python\\Python39\\lib\\site-packages\\statsmodels\\tsa\\statespace\\sarimax.py:978: UserWarning: Non-invertible starting MA parameters found. Using zeros as starting parameters.\n",
      "  warn('Non-invertible starting MA parameters found.'\n",
      "C:\\Users\\User\\AppData\\Local\\Programs\\Python\\Python39\\lib\\site-packages\\statsmodels\\tsa\\statespace\\sarimax.py:978: UserWarning: Non-invertible starting MA parameters found. Using zeros as starting parameters.\n",
      "  warn('Non-invertible starting MA parameters found.'\n",
      "C:\\Users\\User\\AppData\\Local\\Programs\\Python\\Python39\\lib\\site-packages\\statsmodels\\tsa\\statespace\\sarimax.py:978: UserWarning: Non-invertible starting MA parameters found. Using zeros as starting parameters.\n",
      "  warn('Non-invertible starting MA parameters found.'\n"
     ]
    },
    {
     "name": "stdout",
     "output_type": "stream",
     "text": [
      "predicted=2.616578, expected=2.612420\n",
      "predicted=2.603704, expected=2.530680\n"
     ]
    },
    {
     "name": "stderr",
     "output_type": "stream",
     "text": [
      "C:\\Users\\User\\AppData\\Local\\Programs\\Python\\Python39\\lib\\site-packages\\statsmodels\\tsa\\statespace\\sarimax.py:978: UserWarning: Non-invertible starting MA parameters found. Using zeros as starting parameters.\n",
      "  warn('Non-invertible starting MA parameters found.'\n",
      "C:\\Users\\User\\AppData\\Local\\Programs\\Python\\Python39\\lib\\site-packages\\statsmodels\\base\\model.py:604: ConvergenceWarning: Maximum Likelihood optimization failed to converge. Check mle_retvals\n",
      "  warnings.warn(\"Maximum Likelihood optimization failed to \"\n"
     ]
    },
    {
     "name": "stdout",
     "output_type": "stream",
     "text": [
      "predicted=2.556528, expected=2.530680\n",
      "predicted=2.548143, expected=2.530680\n"
     ]
    },
    {
     "name": "stderr",
     "output_type": "stream",
     "text": [
      "C:\\Users\\User\\AppData\\Local\\Programs\\Python\\Python39\\lib\\site-packages\\statsmodels\\tsa\\statespace\\sarimax.py:978: UserWarning: Non-invertible starting MA parameters found. Using zeros as starting parameters.\n",
      "  warn('Non-invertible starting MA parameters found.'\n",
      "C:\\Users\\User\\AppData\\Local\\Programs\\Python\\Python39\\lib\\site-packages\\statsmodels\\tsa\\statespace\\sarimax.py:978: UserWarning: Non-invertible starting MA parameters found. Using zeros as starting parameters.\n",
      "  warn('Non-invertible starting MA parameters found.'\n"
     ]
    },
    {
     "name": "stdout",
     "output_type": "stream",
     "text": [
      "predicted=2.542493, expected=2.530680\n",
      "predicted=2.538661, expected=2.530680\n",
      "predicted=2.536080, expected=2.530680\n"
     ]
    },
    {
     "name": "stderr",
     "output_type": "stream",
     "text": [
      "C:\\Users\\User\\AppData\\Local\\Programs\\Python\\Python39\\lib\\site-packages\\statsmodels\\tsa\\statespace\\sarimax.py:978: UserWarning: Non-invertible starting MA parameters found. Using zeros as starting parameters.\n",
      "  warn('Non-invertible starting MA parameters found.'\n",
      "C:\\Users\\User\\AppData\\Local\\Programs\\Python\\Python39\\lib\\site-packages\\statsmodels\\tsa\\statespace\\sarimax.py:978: UserWarning: Non-invertible starting MA parameters found. Using zeros as starting parameters.\n",
      "  warn('Non-invertible starting MA parameters found.'\n",
      "C:\\Users\\User\\AppData\\Local\\Programs\\Python\\Python39\\lib\\site-packages\\statsmodels\\tsa\\statespace\\sarimax.py:978: UserWarning: Non-invertible starting MA parameters found. Using zeros as starting parameters.\n",
      "  warn('Non-invertible starting MA parameters found.'\n",
      "C:\\Users\\User\\AppData\\Local\\Programs\\Python\\Python39\\lib\\site-packages\\statsmodels\\tsa\\statespace\\sarimax.py:978: UserWarning: Non-invertible starting MA parameters found. Using zeros as starting parameters.\n",
      "  warn('Non-invertible starting MA parameters found.'\n"
     ]
    },
    {
     "name": "stdout",
     "output_type": "stream",
     "text": [
      "predicted=2.534338, expected=2.530680\n",
      "predicted=2.533145, expected=2.530680\n"
     ]
    },
    {
     "name": "stderr",
     "output_type": "stream",
     "text": [
      "C:\\Users\\User\\AppData\\Local\\Programs\\Python\\Python39\\lib\\site-packages\\statsmodels\\tsa\\statespace\\sarimax.py:978: UserWarning: Non-invertible starting MA parameters found. Using zeros as starting parameters.\n",
      "  warn('Non-invertible starting MA parameters found.'\n",
      "C:\\Users\\User\\AppData\\Local\\Programs\\Python\\Python39\\lib\\site-packages\\statsmodels\\tsa\\statespace\\sarimax.py:978: UserWarning: Non-invertible starting MA parameters found. Using zeros as starting parameters.\n",
      "  warn('Non-invertible starting MA parameters found.'\n"
     ]
    },
    {
     "name": "stdout",
     "output_type": "stream",
     "text": [
      "predicted=2.532350, expected=2.530680\n",
      "predicted=2.531814, expected=2.652870\n"
     ]
    },
    {
     "name": "stderr",
     "output_type": "stream",
     "text": [
      "C:\\Users\\User\\AppData\\Local\\Programs\\Python\\Python39\\lib\\site-packages\\statsmodels\\tsa\\statespace\\sarimax.py:978: UserWarning: Non-invertible starting MA parameters found. Using zeros as starting parameters.\n",
      "  warn('Non-invertible starting MA parameters found.'\n",
      "C:\\Users\\User\\AppData\\Local\\Programs\\Python\\Python39\\lib\\site-packages\\statsmodels\\tsa\\statespace\\sarimax.py:978: UserWarning: Non-invertible starting MA parameters found. Using zeros as starting parameters.\n",
      "  warn('Non-invertible starting MA parameters found.'\n"
     ]
    },
    {
     "name": "stdout",
     "output_type": "stream",
     "text": [
      "predicted=2.606148, expected=2.652870\n",
      "predicted=2.621316, expected=2.530680\n",
      "predicted=2.556550, expected=2.530680\n"
     ]
    },
    {
     "name": "stderr",
     "output_type": "stream",
     "text": [
      "C:\\Users\\User\\AppData\\Local\\Programs\\Python\\Python39\\lib\\site-packages\\statsmodels\\tsa\\statespace\\sarimax.py:978: UserWarning: Non-invertible starting MA parameters found. Using zeros as starting parameters.\n",
      "  warn('Non-invertible starting MA parameters found.'\n",
      "C:\\Users\\User\\AppData\\Local\\Programs\\Python\\Python39\\lib\\site-packages\\statsmodels\\tsa\\statespace\\sarimax.py:978: UserWarning: Non-invertible starting MA parameters found. Using zeros as starting parameters.\n",
      "  warn('Non-invertible starting MA parameters found.'\n"
     ]
    },
    {
     "name": "stdout",
     "output_type": "stream",
     "text": [
      "predicted=2.548255, expected=2.530680\n"
     ]
    },
    {
     "name": "stderr",
     "output_type": "stream",
     "text": [
      "C:\\Users\\User\\AppData\\Local\\Programs\\Python\\Python39\\lib\\site-packages\\statsmodels\\tsa\\statespace\\sarimax.py:978: UserWarning: Non-invertible starting MA parameters found. Using zeros as starting parameters.\n",
      "  warn('Non-invertible starting MA parameters found.'\n"
     ]
    },
    {
     "name": "stdout",
     "output_type": "stream",
     "text": [
      "predicted=2.542666, expected=2.530680\n",
      "predicted=2.538867, expected=2.489380\n"
     ]
    },
    {
     "name": "stderr",
     "output_type": "stream",
     "text": [
      "C:\\Users\\User\\AppData\\Local\\Programs\\Python\\Python39\\lib\\site-packages\\statsmodels\\tsa\\statespace\\sarimax.py:978: UserWarning: Non-invertible starting MA parameters found. Using zeros as starting parameters.\n",
      "  warn('Non-invertible starting MA parameters found.'\n",
      "C:\\Users\\User\\AppData\\Local\\Programs\\Python\\Python39\\lib\\site-packages\\statsmodels\\tsa\\statespace\\sarimax.py:978: UserWarning: Non-invertible starting MA parameters found. Using zeros as starting parameters.\n",
      "  warn('Non-invertible starting MA parameters found.'\n"
     ]
    },
    {
     "name": "stdout",
     "output_type": "stream",
     "text": [
      "predicted=2.510980, expected=2.652870\n",
      "predicted=2.604066, expected=2.652870\n"
     ]
    },
    {
     "name": "stderr",
     "output_type": "stream",
     "text": [
      "C:\\Users\\User\\AppData\\Local\\Programs\\Python\\Python39\\lib\\site-packages\\statsmodels\\tsa\\statespace\\sarimax.py:978: UserWarning: Non-invertible starting MA parameters found. Using zeros as starting parameters.\n",
      "  warn('Non-invertible starting MA parameters found.'\n",
      "C:\\Users\\User\\AppData\\Local\\Programs\\Python\\Python39\\lib\\site-packages\\statsmodels\\tsa\\statespace\\sarimax.py:978: UserWarning: Non-invertible starting MA parameters found. Using zeros as starting parameters.\n",
      "  warn('Non-invertible starting MA parameters found.'\n"
     ]
    },
    {
     "name": "stdout",
     "output_type": "stream",
     "text": [
      "predicted=2.619525, expected=2.530680\n",
      "predicted=2.555289, expected=2.530680\n"
     ]
    },
    {
     "name": "stderr",
     "output_type": "stream",
     "text": [
      "C:\\Users\\User\\AppData\\Local\\Programs\\Python\\Python39\\lib\\site-packages\\statsmodels\\tsa\\statespace\\sarimax.py:978: UserWarning: Non-invertible starting MA parameters found. Using zeros as starting parameters.\n",
      "  warn('Non-invertible starting MA parameters found.'\n",
      "C:\\Users\\User\\AppData\\Local\\Programs\\Python\\Python39\\lib\\site-packages\\statsmodels\\tsa\\statespace\\sarimax.py:978: UserWarning: Non-invertible starting MA parameters found. Using zeros as starting parameters.\n",
      "  warn('Non-invertible starting MA parameters found.'\n"
     ]
    },
    {
     "name": "stdout",
     "output_type": "stream",
     "text": [
      "predicted=2.547546, expected=2.612420\n",
      "predicted=2.592145, expected=2.652870\n"
     ]
    },
    {
     "name": "stderr",
     "output_type": "stream",
     "text": [
      "C:\\Users\\User\\AppData\\Local\\Programs\\Python\\Python39\\lib\\site-packages\\statsmodels\\tsa\\statespace\\sarimax.py:978: UserWarning: Non-invertible starting MA parameters found. Using zeros as starting parameters.\n",
      "  warn('Non-invertible starting MA parameters found.'\n",
      "C:\\Users\\User\\AppData\\Local\\Programs\\Python\\Python39\\lib\\site-packages\\statsmodels\\tsa\\statespace\\sarimax.py:978: UserWarning: Non-invertible starting MA parameters found. Using zeros as starting parameters.\n",
      "  warn('Non-invertible starting MA parameters found.'\n"
     ]
    },
    {
     "name": "stdout",
     "output_type": "stream",
     "text": [
      "predicted=2.623176, expected=2.489380\n",
      "predicted=2.532871, expected=2.489380\n"
     ]
    },
    {
     "name": "stderr",
     "output_type": "stream",
     "text": [
      "C:\\Users\\User\\AppData\\Local\\Programs\\Python\\Python39\\lib\\site-packages\\statsmodels\\tsa\\statespace\\sarimax.py:978: UserWarning: Non-invertible starting MA parameters found. Using zeros as starting parameters.\n",
      "  warn('Non-invertible starting MA parameters found.'\n",
      "C:\\Users\\User\\AppData\\Local\\Programs\\Python\\Python39\\lib\\site-packages\\statsmodels\\tsa\\statespace\\sarimax.py:978: UserWarning: Non-invertible starting MA parameters found. Using zeros as starting parameters.\n",
      "  warn('Non-invertible starting MA parameters found.'\n"
     ]
    },
    {
     "name": "stdout",
     "output_type": "stream",
     "text": [
      "predicted=2.519328, expected=2.652870\n",
      "predicted=2.609434, expected=2.530680\n"
     ]
    },
    {
     "name": "stderr",
     "output_type": "stream",
     "text": [
      "C:\\Users\\User\\AppData\\Local\\Programs\\Python\\Python39\\lib\\site-packages\\statsmodels\\tsa\\statespace\\sarimax.py:978: UserWarning: Non-invertible starting MA parameters found. Using zeros as starting parameters.\n",
      "  warn('Non-invertible starting MA parameters found.'\n",
      "C:\\Users\\User\\AppData\\Local\\Programs\\Python\\Python39\\lib\\site-packages\\statsmodels\\tsa\\statespace\\sarimax.py:978: UserWarning: Non-invertible starting MA parameters found. Using zeros as starting parameters.\n",
      "  warn('Non-invertible starting MA parameters found.'\n"
     ]
    },
    {
     "name": "stdout",
     "output_type": "stream",
     "text": [
      "predicted=2.548809, expected=2.530680\n",
      "predicted=2.543195, expected=2.530680\n"
     ]
    },
    {
     "name": "stderr",
     "output_type": "stream",
     "text": [
      "C:\\Users\\User\\AppData\\Local\\Programs\\Python\\Python39\\lib\\site-packages\\statsmodels\\tsa\\statespace\\sarimax.py:978: UserWarning: Non-invertible starting MA parameters found. Using zeros as starting parameters.\n",
      "  warn('Non-invertible starting MA parameters found.'\n",
      "C:\\Users\\User\\AppData\\Local\\Programs\\Python\\Python39\\lib\\site-packages\\statsmodels\\tsa\\statespace\\sarimax.py:978: UserWarning: Non-invertible starting MA parameters found. Using zeros as starting parameters.\n",
      "  warn('Non-invertible starting MA parameters found.'\n"
     ]
    },
    {
     "name": "stdout",
     "output_type": "stream",
     "text": [
      "predicted=2.539320, expected=2.530680\n",
      "predicted=2.536649, expected=2.489380\n"
     ]
    },
    {
     "name": "stderr",
     "output_type": "stream",
     "text": [
      "C:\\Users\\User\\AppData\\Local\\Programs\\Python\\Python39\\lib\\site-packages\\statsmodels\\tsa\\statespace\\sarimax.py:978: UserWarning: Non-invertible starting MA parameters found. Using zeros as starting parameters.\n",
      "  warn('Non-invertible starting MA parameters found.'\n",
      "C:\\Users\\User\\AppData\\Local\\Programs\\Python\\Python39\\lib\\site-packages\\statsmodels\\tsa\\statespace\\sarimax.py:978: UserWarning: Non-invertible starting MA parameters found. Using zeros as starting parameters.\n",
      "  warn('Non-invertible starting MA parameters found.'\n"
     ]
    },
    {
     "name": "stdout",
     "output_type": "stream",
     "text": [
      "predicted=2.509832, expected=2.530680\n",
      "predicted=2.528454, expected=2.530680\n"
     ]
    },
    {
     "name": "stderr",
     "output_type": "stream",
     "text": [
      "C:\\Users\\User\\AppData\\Local\\Programs\\Python\\Python39\\lib\\site-packages\\statsmodels\\tsa\\statespace\\sarimax.py:978: UserWarning: Non-invertible starting MA parameters found. Using zeros as starting parameters.\n",
      "  warn('Non-invertible starting MA parameters found.'\n",
      "C:\\Users\\User\\AppData\\Local\\Programs\\Python\\Python39\\lib\\site-packages\\statsmodels\\tsa\\statespace\\sarimax.py:978: UserWarning: Non-invertible starting MA parameters found. Using zeros as starting parameters.\n",
      "  warn('Non-invertible starting MA parameters found.'\n"
     ]
    },
    {
     "name": "stdout",
     "output_type": "stream",
     "text": [
      "predicted=2.529153, expected=2.652870\n",
      "predicted=2.603557, expected=2.530680\n"
     ]
    },
    {
     "name": "stderr",
     "output_type": "stream",
     "text": [
      "C:\\Users\\User\\AppData\\Local\\Programs\\Python\\Python39\\lib\\site-packages\\statsmodels\\tsa\\statespace\\sarimax.py:978: UserWarning: Non-invertible starting MA parameters found. Using zeros as starting parameters.\n",
      "  warn('Non-invertible starting MA parameters found.'\n",
      "C:\\Users\\User\\AppData\\Local\\Programs\\Python\\Python39\\lib\\site-packages\\statsmodels\\tsa\\statespace\\sarimax.py:978: UserWarning: Non-invertible starting MA parameters found. Using zeros as starting parameters.\n",
      "  warn('Non-invertible starting MA parameters found.'\n"
     ]
    },
    {
     "name": "stdout",
     "output_type": "stream",
     "text": [
      "predicted=2.544943, expected=2.530680\n",
      "predicted=2.540534, expected=2.530680\n"
     ]
    },
    {
     "name": "stderr",
     "output_type": "stream",
     "text": [
      "C:\\Users\\User\\AppData\\Local\\Programs\\Python\\Python39\\lib\\site-packages\\statsmodels\\tsa\\statespace\\sarimax.py:978: UserWarning: Non-invertible starting MA parameters found. Using zeros as starting parameters.\n",
      "  warn('Non-invertible starting MA parameters found.'\n",
      "C:\\Users\\User\\AppData\\Local\\Programs\\Python\\Python39\\lib\\site-packages\\statsmodels\\tsa\\statespace\\sarimax.py:978: UserWarning: Non-invertible starting MA parameters found. Using zeros as starting parameters.\n",
      "  warn('Non-invertible starting MA parameters found.'\n",
      "C:\\Users\\User\\AppData\\Local\\Programs\\Python\\Python39\\lib\\site-packages\\statsmodels\\base\\model.py:604: ConvergenceWarning: Maximum Likelihood optimization failed to converge. Check mle_retvals\n",
      "  warnings.warn(\"Maximum Likelihood optimization failed to \"\n",
      "C:\\Users\\User\\AppData\\Local\\Programs\\Python\\Python39\\lib\\site-packages\\statsmodels\\tsa\\statespace\\sarimax.py:978: UserWarning: Non-invertible starting MA parameters found. Using zeros as starting parameters.\n",
      "  warn('Non-invertible starting MA parameters found.'\n"
     ]
    },
    {
     "name": "stdout",
     "output_type": "stream",
     "text": [
      "predicted=2.537496, expected=2.530680\n",
      "predicted=2.535399, expected=2.530680\n"
     ]
    },
    {
     "name": "stderr",
     "output_type": "stream",
     "text": [
      "C:\\Users\\User\\AppData\\Local\\Programs\\Python\\Python39\\lib\\site-packages\\statsmodels\\tsa\\statespace\\sarimax.py:978: UserWarning: Non-invertible starting MA parameters found. Using zeros as starting parameters.\n",
      "  warn('Non-invertible starting MA parameters found.'\n",
      "C:\\Users\\User\\AppData\\Local\\Programs\\Python\\Python39\\lib\\site-packages\\statsmodels\\tsa\\statespace\\sarimax.py:978: UserWarning: Non-invertible starting MA parameters found. Using zeros as starting parameters.\n",
      "  warn('Non-invertible starting MA parameters found.'\n"
     ]
    },
    {
     "name": "stdout",
     "output_type": "stream",
     "text": [
      "predicted=2.533946, expected=2.652870\n",
      "predicted=2.606547, expected=2.530680\n",
      "predicted=2.547330, expected=2.530680\n"
     ]
    },
    {
     "name": "stderr",
     "output_type": "stream",
     "text": [
      "C:\\Users\\User\\AppData\\Local\\Programs\\Python\\Python39\\lib\\site-packages\\statsmodels\\tsa\\statespace\\sarimax.py:978: UserWarning: Non-invertible starting MA parameters found. Using zeros as starting parameters.\n",
      "  warn('Non-invertible starting MA parameters found.'\n",
      "C:\\Users\\User\\AppData\\Local\\Programs\\Python\\Python39\\lib\\site-packages\\statsmodels\\tsa\\statespace\\sarimax.py:978: UserWarning: Non-invertible starting MA parameters found. Using zeros as starting parameters.\n",
      "  warn('Non-invertible starting MA parameters found.'\n"
     ]
    },
    {
     "name": "stdout",
     "output_type": "stream",
     "text": [
      "predicted=2.542178, expected=2.530680\n",
      "predicted=2.538641, expected=2.530680\n"
     ]
    },
    {
     "name": "stderr",
     "output_type": "stream",
     "text": [
      "C:\\Users\\User\\AppData\\Local\\Programs\\Python\\Python39\\lib\\site-packages\\statsmodels\\tsa\\statespace\\sarimax.py:978: UserWarning: Non-invertible starting MA parameters found. Using zeros as starting parameters.\n",
      "  warn('Non-invertible starting MA parameters found.'\n",
      "C:\\Users\\User\\AppData\\Local\\Programs\\Python\\Python39\\lib\\site-packages\\statsmodels\\tsa\\statespace\\sarimax.py:978: UserWarning: Non-invertible starting MA parameters found. Using zeros as starting parameters.\n",
      "  warn('Non-invertible starting MA parameters found.'\n"
     ]
    },
    {
     "name": "stdout",
     "output_type": "stream",
     "text": [
      "predicted=2.536192, expected=2.530680\n",
      "predicted=2.534491, expected=2.530680\n"
     ]
    },
    {
     "name": "stderr",
     "output_type": "stream",
     "text": [
      "C:\\Users\\User\\AppData\\Local\\Programs\\Python\\Python39\\lib\\site-packages\\statsmodels\\tsa\\statespace\\sarimax.py:978: UserWarning: Non-invertible starting MA parameters found. Using zeros as starting parameters.\n",
      "  warn('Non-invertible starting MA parameters found.'\n",
      "C:\\Users\\User\\AppData\\Local\\Programs\\Python\\Python39\\lib\\site-packages\\statsmodels\\tsa\\statespace\\sarimax.py:978: UserWarning: Non-invertible starting MA parameters found. Using zeros as starting parameters.\n",
      "  warn('Non-invertible starting MA parameters found.'\n"
     ]
    },
    {
     "name": "stdout",
     "output_type": "stream",
     "text": [
      "predicted=2.533333, expected=2.530680\n",
      "Test MAE: 0.04487\n",
      "Test MSE: 0.00383\n",
      "Test RMSE: 0.06192\n"
     ]
    },
    {
     "data": {
      "image/png": "[encoded data removed]",
      "text/plain": [
       "<Figure size 432x288 with 1 Axes>"
      ]
     },
     "metadata": {
      "needs_background": "light"
     },
     "output_type": "display_data"
    }
   ],
   "source": [
    "# evaluate an ARIMA model using a walk-forward validation\n",
    "\n",
    "from matplotlib import pyplot\n",
    "from statsmodels.tsa.arima.model import ARIMA\n",
    "from sklearn.metrics import *\n",
    "from math import sqrt\n",
    "\n",
    "X = data['CO'].values\n",
    "size = int(len(X) * 0.8)\n",
    "train, test = X[0:size], X[size:len(X)]\n",
    "history = [x for x in train]\n",
    "predictions = list()\n",
    "# walk-forward validation\n",
    "for t in range(len(test)):\n",
    "\tmodel = ARIMA(history, order=(1,1,1))\n",
    "\tmodel_fit = model.fit()\n",
    "\toutput = model_fit.forecast()\n",
    "\tyhat = output[0]\n",
    "\tpredictions.append(yhat)\n",
    "\tobs = test[t]\n",
    "\thistory.append(obs)\n",
    "\tprint('predicted=%f, expected=%f' % (yhat, obs))\n",
    "\n",
    "# evaluate forecasts\n",
    "\n",
    "print('Test MAE: %.5f' % mean_absolute_error(test, predictions))\n",
    "print('Test MSE: %.5f' % mean_squared_error(test, predictions))\n",
    "print('Test RMSE: %.5f' % sqrt(mean_squared_error(test, predictions)))\n",
    "# plot forecasts against actual outcomes\n",
    "pyplot.plot(test)\n",
    "pyplot.plot(predictions, color='red')\n",
    "pyplot.ylabel('CO')\n",
    "pyplot.show()"
   ]
  },
  {
   "cell_type": "code",
   "execution_count": 106,
   "metadata": {},
   "outputs": [
    {
     "name": "stdout",
     "output_type": "stream",
     "text": [
      "Test MAE: 0.04745\n",
      "Test MSE: 0.00288\n",
      "Test RMSE: 0.05364\n"
     ]
    }
   ],
   "source": [
    "# evaluate forecasts for CO\n",
    "\n",
    "print('Test MAE: %.5f' % mean_absolute_error(test, ARIMA_Combine))\n",
    "print('Test MSE: %.5f' % mean_squared_error(test, ARIMA_Combine))\n",
    "print('Test RMSE: %.5f' % sqrt(mean_squared_error(test, ARIMA_Combine)))"
   ]
  },
  {
   "cell_type": "code",
   "execution_count": 107,
   "metadata": {},
   "outputs": [
    {
     "name": "stdout",
     "output_type": "stream",
     "text": [
      "Epoch 1/25\n"
     ]
    },
    {
     "name": "stderr",
     "output_type": "stream",
     "text": [
      "C:\\Users\\User\\AppData\\Local\\Temp/ipykernel_21084/696707495.py:31: UserWarning: `Model.fit_generator` is deprecated and will be removed in a future version. Please use `Model.fit`, which supports generators.\n",
      "  model.fit_generator(train_generator, epochs=num_epochs, verbose=1)\n"
     ]
    },
    {
     "name": "stdout",
     "output_type": "stream",
     "text": [
      "16/16 [==============================] - 1s 10ms/step - loss: 16.1440\n",
      "Epoch 2/25\n",
      "16/16 [==============================] - 0s 9ms/step - loss: 7.5675\n",
      "Epoch 3/25\n",
      "16/16 [==============================] - 0s 8ms/step - loss: 0.7536\n",
      "Epoch 4/25\n",
      "16/16 [==============================] - 0s 9ms/step - loss: 0.1303\n",
      "Epoch 5/25\n",
      "16/16 [==============================] - 0s 10ms/step - loss: 0.0470\n",
      "Epoch 6/25\n",
      "16/16 [==============================] - 0s 9ms/step - loss: 0.0307\n",
      "Epoch 7/25\n",
      "16/16 [==============================] - 0s 10ms/step - loss: 0.0303\n",
      "Epoch 8/25\n",
      "16/16 [==============================] - 0s 8ms/step - loss: 0.0320\n",
      "Epoch 9/25\n",
      "16/16 [==============================] - 0s 8ms/step - loss: 0.0288\n",
      "Epoch 10/25\n",
      "16/16 [==============================] - 0s 8ms/step - loss: 0.0396\n",
      "Epoch 11/25\n",
      "16/16 [==============================] - 0s 9ms/step - loss: 0.0388\n",
      "Epoch 12/25\n",
      "16/16 [==============================] - 0s 11ms/step - loss: 0.0336\n",
      "Epoch 13/25\n",
      "16/16 [==============================] - 0s 8ms/step - loss: 0.0309\n",
      "Epoch 14/25\n",
      "16/16 [==============================] - 0s 7ms/step - loss: 0.0296\n",
      "Epoch 15/25\n",
      "16/16 [==============================] - 0s 8ms/step - loss: 0.0319\n",
      "Epoch 16/25\n",
      "16/16 [==============================] - 0s 8ms/step - loss: 0.0328\n",
      "Epoch 17/25\n",
      "16/16 [==============================] - 0s 8ms/step - loss: 0.0290\n",
      "Epoch 18/25\n",
      "16/16 [==============================] - 0s 8ms/step - loss: 0.0289\n",
      "Epoch 19/25\n",
      "16/16 [==============================] - 0s 8ms/step - loss: 0.0291\n",
      "Epoch 20/25\n",
      "16/16 [==============================] - 0s 7ms/step - loss: 0.0282\n",
      "Epoch 21/25\n",
      "16/16 [==============================] - 0s 8ms/step - loss: 0.0292\n",
      "Epoch 22/25\n",
      "16/16 [==============================] - 0s 8ms/step - loss: 0.0331\n",
      "Epoch 23/25\n",
      "16/16 [==============================] - 0s 8ms/step - loss: 0.0281\n",
      "Epoch 24/25\n",
      "16/16 [==============================] - 0s 8ms/step - loss: 0.0333\n",
      "Epoch 25/25\n",
      "16/16 [==============================] - 0s 8ms/step - loss: 0.0303\n"
     ]
    }
   ],
   "source": [
    "CO_data = data['CO'].values\n",
    "CO_data = CO_data.reshape((-1,1))\n",
    "\n",
    "split_percent = 0.80\n",
    "split = int(split_percent*len(CO_data))\n",
    "\n",
    "CO_train = CO_data[:split]\n",
    "CO_test = CO_data[split:]\n",
    "\n",
    "date_train = data[:split]\n",
    "date_test = data[split:]\n",
    "\n",
    "look_back = 30\n",
    "\n",
    "train_generator = TimeseriesGenerator(CO_train, CO_train, length=look_back, batch_size=20)     \n",
    "test_generator = TimeseriesGenerator(CO_test, CO_test, length=look_back, batch_size=1)\n",
    "\n",
    "from keras.models import Sequential\n",
    "from keras.layers import LSTM, Dense\n",
    "\n",
    "model = Sequential()\n",
    "model.add(\n",
    "    LSTM(10,\n",
    "        activation='relu',\n",
    "        input_shape=(look_back,1))\n",
    ")\n",
    "model.add(Dense(1))\n",
    "model.compile(optimizer='adam', loss='mse')\n",
    "\n",
    "num_epochs = 25\n",
    "model.fit_generator(train_generator, epochs=num_epochs, verbose=1)\n",
    "\n",
    "prediction = model.predict(test_generator)\n",
    "\n",
    "# close_train = close_train.reshape((-1))\n",
    "# close_test = close_test.reshape((-1))\n",
    "# prediction = prediction.reshape((-1))\n",
    "\n",
    "CO_data = CO_data.reshape((-1))\n",
    "\n",
    "def predict(num_prediction, model):\n",
    "    prediction_list = CO_data[-look_back:]\n",
    "    \n",
    "    for _ in range(num_prediction):\n",
    "        x = prediction_list[-look_back:]\n",
    "        x = x.reshape((1, look_back, 1))\n",
    "        out = model.predict(x)[0][0]\n",
    "        prediction_list = np.append(prediction_list, out)\n",
    "    prediction_list = prediction_list[look_back-1:]\n",
    "        \n",
    "    return prediction_list\n",
    "    \n",
    "def predict_minutes(num_prediction):\n",
    "    last_minute = date_train\n",
    "    # prediction_minute = pd.date_range(last_minute, periods=num_prediction+1).tolist()\n",
    "    prediction_minute = justOneMinute(last_minute, num_prediction+1)\n",
    "    return prediction_minute\n",
    "\n",
    "num_prediction = 30\n",
    "forecast = predict(num_prediction, model)\n",
    "forecast_dates = predict_minutes(num_prediction)\n"
   ]
  },
  {
   "cell_type": "code",
   "execution_count": 108,
   "metadata": {},
   "outputs": [
    {
     "data": {
      "image/png": "[encoded data removed]",
      "text/plain": [
       "<Figure size 1080x720 with 1 Axes>"
      ]
     },
     "metadata": {
      "needs_background": "light"
     },
     "output_type": "display_data"
    }
   ],
   "source": [
    "# Visualising the results\n",
    "plt.figure(figsize=(15,10))\n",
    "plt.plot(date_test['date'][:55], LPG_test[:55], color = 'blue', label = 'Real data')\n",
    "plt.plot(forecast_dates, forecast, color = 'red', label = 'Predicted' )\n",
    "plt.title('CO Prediction')\n",
    "plt.xlabel('Minutes')\n",
    "plt.ylabel('CO')\n",
    "plt.legend()\n",
    "plt.show()"
   ]
  },
  {
   "cell_type": "code",
   "execution_count": 109,
   "metadata": {},
   "outputs": [
    {
     "name": "stdout",
     "output_type": "stream",
     "text": [
      "Mean Absolute Error: 0.08726\n",
      "Mean Squared Error: 0.01158\n",
      "Test RMSE: 0.10762\n"
     ]
    }
   ],
   "source": [
    "# evaluate forecasts\n",
    "rmse = sqrt(mean_squared_error(CO_test[:31], forecast))\n",
    "print('Mean Absolute Error: %.5f' % mean_absolute_error(CO_test[:31], forecast))\n",
    "print('Mean Squared Error: %.5f' % mean_squared_error(CO_test[:31], forecast))\n",
    "print('Test RMSE: %.5f' % rmse)"
   ]
  },
  {
   "cell_type": "code",
   "execution_count": 110,
   "metadata": {},
   "outputs": [
    {
     "name": "stdout",
     "output_type": "stream",
     "text": [
      "CO predicted data \n",
      " [4.68613078 4.68574367 4.68114789 4.67891017 4.67666117 4.67509961\n",
      " 4.67353664 4.6695904  4.66913278 4.66730067 4.66346229 4.6621124\n",
      " 4.66004524 4.65786397 4.65616291 4.6532811  4.6498705  4.64655042\n",
      " 4.64137404 4.63873273 4.63555941 4.63092009 4.62658336 4.62201641\n",
      " 4.6157115  4.61187755 4.60681003 4.60176268 4.59638632 4.59074748\n",
      " 4.5848623 ]\n",
      "Test MAE: 2.07558\n",
      "Test MSE: 4.31173\n",
      "Test RMSE: 2.07647\n"
     ]
    }
   ],
   "source": [
    "# evaluate forecasts\n",
    "LSTM_Combine = LinearPredictForCO(forecast)\n",
    "print('CO predicted data \\n', LSTM_Combine)\n",
    "\n",
    "print('Test MAE: %.5f' % mean_absolute_error(CO_test[:31], LSTM_Combine))\n",
    "print('Test MSE: %.5f' % mean_squared_error(CO_test[:31], LSTM_Combine))\n",
    "print('Test RMSE: %.5f' % sqrt(mean_squared_error(CO_test[:31], LSTM_Combine)))"
   ]
  },
  {
   "cell_type": "code",
   "execution_count": null,
   "metadata": {},
   "outputs": [],
   "source": []
  }
 ],
 "metadata": {
  "interpreter": {
   "hash": "2647ea34e536f865ab67ff9ddee7fd78773d956cec0cab53c79b32cd10da5d83"
  },
  "kernelspec": {
   "display_name": "Python 3.9.6 64-bit",
   "language": "python",
   "name": "python3"
  },
  "language_info": {
   "codemirror_mode": {
    "name": "ipython",
    "version": 3
   },
   "file_extension": ".py",
   "mimetype": "text/x-python",
   "name": "python",
   "nbconvert_exporter": "python",
   "pygments_lexer": "ipython3",
   "version": "3.9.6"
  },
  "orig_nbformat": 4
 },
 "nbformat": 4,
 "nbformat_minor": 2
}
